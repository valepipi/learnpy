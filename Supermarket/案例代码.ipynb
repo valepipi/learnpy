{
 "cells": [
  {
   "cell_type": "markdown",
   "metadata": {},
   "source": [
    "# 导入所需模块"
   ]
  },
  {
   "cell_type": "code",
   "execution_count": 1,
   "metadata": {},
   "outputs": [],
   "source": [
    "import pandas as pd"
   ]
  },
  {
   "cell_type": "markdown",
   "metadata": {},
   "source": [
    "# 数据导入"
   ]
  },
  {
   "cell_type": "code",
   "execution_count": 3,
   "metadata": {},
   "outputs": [],
   "source": [
    "orders = pd.read_excel('超市数据集.xlsx', \n",
    "                       sheet_name= '订单表')\n",
    "customers = pd.read_excel('超市数据集.xlsx', \n",
    "                          sheet_name= '客户表')\n",
    "products = pd.read_excel('超市数据集.xlsx', \n",
    "                         sheet_name= '产品表')"
   ]
  },
  {
   "cell_type": "code",
   "execution_count": 4,
   "metadata": {},
   "outputs": [
    {
     "data": {
      "text/html": [
       "<div>\n",
       "<style scoped>\n",
       "    .dataframe tbody tr th:only-of-type {\n",
       "        vertical-align: middle;\n",
       "    }\n",
       "\n",
       "    .dataframe tbody tr th {\n",
       "        vertical-align: top;\n",
       "    }\n",
       "\n",
       "    .dataframe thead th {\n",
       "        text-align: right;\n",
       "    }\n",
       "</style>\n",
       "<table border=\"1\" class=\"dataframe\">\n",
       "  <thead>\n",
       "    <tr style=\"text-align: right;\">\n",
       "      <th></th>\n",
       "      <th>行 Id</th>\n",
       "      <th>订单 Id</th>\n",
       "      <th>订单日期</th>\n",
       "      <th>客户 Id</th>\n",
       "      <th>产品 Id</th>\n",
       "      <th>数量</th>\n",
       "      <th>销售额</th>\n",
       "    </tr>\n",
       "  </thead>\n",
       "  <tbody>\n",
       "    <tr>\n",
       "      <th>0</th>\n",
       "      <td>1</td>\n",
       "      <td>US-2021-1357144</td>\n",
       "      <td>2021-04-27</td>\n",
       "      <td>14485</td>\n",
       "      <td>10002717</td>\n",
       "      <td>2</td>\n",
       "      <td>130</td>\n",
       "    </tr>\n",
       "    <tr>\n",
       "      <th>1</th>\n",
       "      <td>2</td>\n",
       "      <td>CN-2021-1973789</td>\n",
       "      <td>2021-06-15</td>\n",
       "      <td>10165</td>\n",
       "      <td>10004832</td>\n",
       "      <td>2</td>\n",
       "      <td>125</td>\n",
       "    </tr>\n",
       "    <tr>\n",
       "      <th>2</th>\n",
       "      <td>3</td>\n",
       "      <td>CN-2021-1973789</td>\n",
       "      <td>2021-06-15</td>\n",
       "      <td>10165</td>\n",
       "      <td>10001505</td>\n",
       "      <td>2</td>\n",
       "      <td>32</td>\n",
       "    </tr>\n",
       "    <tr>\n",
       "      <th>3</th>\n",
       "      <td>4</td>\n",
       "      <td>US-2021-3017568</td>\n",
       "      <td>2021-12-09</td>\n",
       "      <td>17170</td>\n",
       "      <td>10003746</td>\n",
       "      <td>4</td>\n",
       "      <td>321</td>\n",
       "    </tr>\n",
       "    <tr>\n",
       "      <th>4</th>\n",
       "      <td>5</td>\n",
       "      <td>CN-2020-2975416</td>\n",
       "      <td>2020-05-31</td>\n",
       "      <td>15730</td>\n",
       "      <td>10003452</td>\n",
       "      <td>3</td>\n",
       "      <td>1376</td>\n",
       "    </tr>\n",
       "  </tbody>\n",
       "</table>\n",
       "</div>"
      ],
      "text/plain": [
       "   行 Id            订单 Id       订单日期  客户 Id     产品 Id  数量   销售额\n",
       "0     1  US-2021-1357144 2021-04-27  14485  10002717   2   130\n",
       "1     2  CN-2021-1973789 2021-06-15  10165  10004832   2   125\n",
       "2     3  CN-2021-1973789 2021-06-15  10165  10001505   2    32\n",
       "3     4  US-2021-3017568 2021-12-09  17170  10003746   4   321\n",
       "4     5  CN-2020-2975416 2020-05-31  15730  10003452   3  1376"
      ]
     },
     "execution_count": 4,
     "metadata": {},
     "output_type": "execute_result"
    }
   ],
   "source": [
    "orders.head()"
   ]
  },
  {
   "cell_type": "code",
   "execution_count": 5,
   "metadata": {},
   "outputs": [
    {
     "data": {
      "text/html": [
       "<div>\n",
       "<style scoped>\n",
       "    .dataframe tbody tr th:only-of-type {\n",
       "        vertical-align: middle;\n",
       "    }\n",
       "\n",
       "    .dataframe tbody tr th {\n",
       "        vertical-align: top;\n",
       "    }\n",
       "\n",
       "    .dataframe thead th {\n",
       "        text-align: right;\n",
       "    }\n",
       "</style>\n",
       "<table border=\"1\" class=\"dataframe\">\n",
       "  <thead>\n",
       "    <tr style=\"text-align: right;\">\n",
       "      <th></th>\n",
       "      <th>客户 Id</th>\n",
       "      <th>客户名称</th>\n",
       "      <th>客户类型</th>\n",
       "    </tr>\n",
       "  </thead>\n",
       "  <tbody>\n",
       "    <tr>\n",
       "      <th>0</th>\n",
       "      <td>10015</td>\n",
       "      <td>陈嫒</td>\n",
       "      <td>消费者</td>\n",
       "    </tr>\n",
       "    <tr>\n",
       "      <th>1</th>\n",
       "      <td>10030</td>\n",
       "      <td>贾嫒</td>\n",
       "      <td>公司</td>\n",
       "    </tr>\n",
       "    <tr>\n",
       "      <th>2</th>\n",
       "      <td>10045</td>\n",
       "      <td>巩嫒</td>\n",
       "      <td>公司</td>\n",
       "    </tr>\n",
       "    <tr>\n",
       "      <th>3</th>\n",
       "      <td>10060</td>\n",
       "      <td>罗嫒</td>\n",
       "      <td>小型企业</td>\n",
       "    </tr>\n",
       "    <tr>\n",
       "      <th>4</th>\n",
       "      <td>10075</td>\n",
       "      <td>余嫒</td>\n",
       "      <td>公司</td>\n",
       "    </tr>\n",
       "  </tbody>\n",
       "</table>\n",
       "</div>"
      ],
      "text/plain": [
       "   客户 Id 客户名称  客户类型\n",
       "0  10015   陈嫒   消费者\n",
       "1  10030   贾嫒    公司\n",
       "2  10045   巩嫒    公司\n",
       "3  10060   罗嫒  小型企业\n",
       "4  10075   余嫒    公司"
      ]
     },
     "execution_count": 5,
     "metadata": {},
     "output_type": "execute_result"
    }
   ],
   "source": [
    "customers.head()"
   ]
  },
  {
   "cell_type": "code",
   "execution_count": 382,
   "metadata": {},
   "outputs": [
    {
     "data": {
      "text/html": [
       "<div>\n",
       "<style scoped>\n",
       "    .dataframe tbody tr th:only-of-type {\n",
       "        vertical-align: middle;\n",
       "    }\n",
       "\n",
       "    .dataframe tbody tr th {\n",
       "        vertical-align: top;\n",
       "    }\n",
       "\n",
       "    .dataframe thead th {\n",
       "        text-align: right;\n",
       "    }\n",
       "</style>\n",
       "<table border=\"1\" class=\"dataframe\">\n",
       "  <thead>\n",
       "    <tr style=\"text-align: right;\">\n",
       "      <th></th>\n",
       "      <th>物料号</th>\n",
       "      <th>类别</th>\n",
       "      <th>细分</th>\n",
       "      <th>品牌</th>\n",
       "      <th>产品名称</th>\n",
       "      <th>规格</th>\n",
       "    </tr>\n",
       "  </thead>\n",
       "  <tbody>\n",
       "    <tr>\n",
       "      <th>0</th>\n",
       "      <td>10004988</td>\n",
       "      <td>办公用</td>\n",
       "      <td>美术</td>\n",
       "      <td>Stanley</td>\n",
       "      <td>铅笔刀</td>\n",
       "      <td>混合尺寸</td>\n",
       "    </tr>\n",
       "    <tr>\n",
       "      <th>1</th>\n",
       "      <td>10004984</td>\n",
       "      <td>办公用</td>\n",
       "      <td>信封</td>\n",
       "      <td>Jiffy</td>\n",
       "      <td>邮寄品</td>\n",
       "      <td>红色</td>\n",
       "    </tr>\n",
       "    <tr>\n",
       "      <th>2</th>\n",
       "      <td>10004982</td>\n",
       "      <td>办公用</td>\n",
       "      <td>标签</td>\n",
       "      <td>Harbour Creations</td>\n",
       "      <td>有色标签</td>\n",
       "      <td>白色</td>\n",
       "    </tr>\n",
       "    <tr>\n",
       "      <th>3</th>\n",
       "      <td>10004976</td>\n",
       "      <td>办公用</td>\n",
       "      <td>标签</td>\n",
       "      <td>Hon</td>\n",
       "      <td>可去除的标签</td>\n",
       "      <td>红色</td>\n",
       "    </tr>\n",
       "    <tr>\n",
       "      <th>4</th>\n",
       "      <td>10004975</td>\n",
       "      <td>办公用</td>\n",
       "      <td>收纳</td>\n",
       "      <td>Fellowes</td>\n",
       "      <td>文件夹</td>\n",
       "      <td>工业</td>\n",
       "    </tr>\n",
       "  </tbody>\n",
       "</table>\n",
       "</div>"
      ],
      "text/plain": [
       "        物料号   类别  细分                  品牌    产品名称     规格\n",
       "0  10004988  办公用  美术            Stanley      铅笔刀   混合尺寸\n",
       "1  10004984  办公用  信封              Jiffy      邮寄品     红色\n",
       "2  10004982  办公用  标签  Harbour Creations     有色标签     白色\n",
       "3  10004976  办公用  标签                Hon   可去除的标签     红色\n",
       "4  10004975  办公用  收纳           Fellowes      文件夹     工业"
      ]
     },
     "execution_count": 382,
     "metadata": {},
     "output_type": "execute_result"
    }
   ],
   "source": [
    "products.head()"
   ]
  },
  {
   "cell_type": "markdown",
   "metadata": {},
   "source": [
    "# 数据清洗"
   ]
  },
  {
   "cell_type": "code",
   "execution_count": 6,
   "metadata": {
    "jupyter": {
     "source_hidden": true
    }
   },
   "outputs": [],
   "source": [
    "orders['订单日期'] = orders['订单日期'].astype('str')\n",
    "orders['数量'] = orders['数量'].astype('str')"
   ]
  },
  {
   "cell_type": "markdown",
   "metadata": {},
   "source": [
    "## 数据类型"
   ]
  },
  {
   "cell_type": "code",
   "execution_count": 7,
   "metadata": {},
   "outputs": [
    {
     "data": {
      "text/plain": [
       "行 Id      int64\n",
       "订单 Id    object\n",
       "订单日期     object\n",
       "客户 Id     int64\n",
       "产品 Id     int64\n",
       "数量       object\n",
       "销售额       int64\n",
       "dtype: object"
      ]
     },
     "execution_count": 7,
     "metadata": {},
     "output_type": "execute_result"
    }
   ],
   "source": [
    "orders.dtypes"
   ]
  },
  {
   "cell_type": "code",
   "execution_count": 8,
   "metadata": {},
   "outputs": [
    {
     "data": {
      "text/plain": [
       "客户 Id     int64\n",
       "客户名称     object\n",
       "客户类型     object\n",
       "dtype: object"
      ]
     },
     "execution_count": 8,
     "metadata": {},
     "output_type": "execute_result"
    }
   ],
   "source": [
    "customers.dtypes"
   ]
  },
  {
   "cell_type": "code",
   "execution_count": 9,
   "metadata": {},
   "outputs": [
    {
     "ename": "NameError",
     "evalue": "name 'finance' is not defined",
     "output_type": "error",
     "traceback": [
      "\u001b[0;31m---------------------------------------------------------------------------\u001b[0m",
      "\u001b[0;31mNameError\u001b[0m                                 Traceback (most recent call last)",
      "\u001b[1;32m/mnt/d/ShareLinuxFile/Pyenv/DA-code/超市数据-pandas/案例代码.ipynb Cell 13'\u001b[0m in \u001b[0;36m<cell line: 1>\u001b[0;34m()\u001b[0m\n\u001b[0;32m----> <a href='vscode-notebook-cell://wsl%2Bubuntu/mnt/d/ShareLinuxFile/Pyenv/DA-code/%E8%B6%85%E5%B8%82%E6%95%B0%E6%8D%AE-pandas/%E6%A1%88%E4%BE%8B%E4%BB%A3%E7%A0%81.ipynb#ch0000012vscode-remote?line=0'>1</a>\u001b[0m finance\u001b[39m.\u001b[39mdtypes\n",
      "\u001b[0;31mNameError\u001b[0m: name 'finance' is not defined"
     ]
    }
   ],
   "source": [
    "finance.dtypes"
   ]
  },
  {
   "cell_type": "markdown",
   "metadata": {},
   "source": [
    "### 修改数据类型"
   ]
  },
  {
   "cell_type": "code",
   "execution_count": 10,
   "metadata": {},
   "outputs": [],
   "source": [
    "orders['订单日期'] = orders['订单日期'].astype('datetime64')\n",
    "orders['数量'] = orders['数量'].apply(int)"
   ]
  },
  {
   "cell_type": "code",
   "execution_count": 11,
   "metadata": {},
   "outputs": [
    {
     "data": {
      "text/plain": [
       "行 Id              int64\n",
       "订单 Id            object\n",
       "订单日期     datetime64[ns]\n",
       "客户 Id             int64\n",
       "产品 Id             int64\n",
       "数量                int64\n",
       "销售额               int64\n",
       "dtype: object"
      ]
     },
     "execution_count": 11,
     "metadata": {},
     "output_type": "execute_result"
    }
   ],
   "source": [
    "orders.dtypes"
   ]
  },
  {
   "cell_type": "markdown",
   "metadata": {},
   "source": [
    "## 修改字段名"
   ]
  },
  {
   "cell_type": "code",
   "execution_count": 12,
   "metadata": {},
   "outputs": [
    {
     "data": {
      "text/plain": [
       "Index(['行 Id', '订单ID', '订单日期', '客户ID', '产品ID', '数量', '销售额'], dtype='object')"
      ]
     },
     "execution_count": 12,
     "metadata": {},
     "output_type": "execute_result"
    }
   ],
   "source": [
    "orders = orders.rename(columns={'订单 Id':'订单ID',\n",
    "                                '客户 Id':'客户ID',\n",
    "                                '产品 Id':'产品ID'})\n",
    "customers = customers.rename(columns={'客户 Id':'客户ID'})\n",
    "\n",
    "orders.columns"
   ]
  },
  {
   "cell_type": "markdown",
   "metadata": {},
   "source": [
    "## 多表连接"
   ]
  },
  {
   "cell_type": "code",
   "execution_count": 13,
   "metadata": {},
   "outputs": [
    {
     "data": {
      "text/plain": [
       "Index(['行 Id', '订单ID', '订单日期', '客户ID', '产品ID', '数量', '销售额', '客户名称', '客户类型'], dtype='object')"
      ]
     },
     "execution_count": 13,
     "metadata": {},
     "output_type": "execute_result"
    }
   ],
   "source": [
    "data = orders.merge(customers, on='客户ID', how='left')\n",
    "data.columns"
   ]
  },
  {
   "cell_type": "code",
   "execution_count": 16,
   "metadata": {},
   "outputs": [
    {
     "ename": "KeyError",
     "evalue": "'物料号'",
     "output_type": "error",
     "traceback": [
      "\u001b[0;31m---------------------------------------------------------------------------\u001b[0m",
      "\u001b[0;31mKeyError\u001b[0m                                  Traceback (most recent call last)",
      "\u001b[1;32m/mnt/d/ShareLinuxFile/Pyenv/DA-code/超市数据-pandas/案例代码.ipynb Cell 21'\u001b[0m in \u001b[0;36m<cell line: 1>\u001b[0;34m()\u001b[0m\n\u001b[0;32m----> <a href='vscode-notebook-cell://wsl%2Bubuntu/mnt/d/ShareLinuxFile/Pyenv/DA-code/%E8%B6%85%E5%B8%82%E6%95%B0%E6%8D%AE-pandas/%E6%A1%88%E4%BE%8B%E4%BB%A3%E7%A0%81.ipynb#ch0000020vscode-remote?line=0'>1</a>\u001b[0m data \u001b[39m=\u001b[39m data\u001b[39m.\u001b[39;49mmerge(products, how\u001b[39m=\u001b[39;49m\u001b[39m'\u001b[39;49m\u001b[39mleft\u001b[39;49m\u001b[39m'\u001b[39;49m, \n\u001b[1;32m      <a href='vscode-notebook-cell://wsl%2Bubuntu/mnt/d/ShareLinuxFile/Pyenv/DA-code/%E8%B6%85%E5%B8%82%E6%95%B0%E6%8D%AE-pandas/%E6%A1%88%E4%BE%8B%E4%BB%A3%E7%A0%81.ipynb#ch0000020vscode-remote?line=1'>2</a>\u001b[0m                   left_on\u001b[39m=\u001b[39;49m\u001b[39m'\u001b[39;49m\u001b[39m产品ID\u001b[39;49m\u001b[39m'\u001b[39;49m, right_on\u001b[39m=\u001b[39;49m\u001b[39m'\u001b[39;49m\u001b[39m物料号\u001b[39;49m\u001b[39m'\u001b[39;49m)\n",
      "File \u001b[0;32m~/.local/lib/python3.10/site-packages/pandas/core/frame.py:9345\u001b[0m, in \u001b[0;36mDataFrame.merge\u001b[0;34m(self, right, how, on, left_on, right_on, left_index, right_index, sort, suffixes, copy, indicator, validate)\u001b[0m\n\u001b[1;32m   <a href='file:///home/jasmine/.local/lib/python3.10/site-packages/pandas/core/frame.py?line=9325'>9326</a>\u001b[0m \u001b[39m@Substitution\u001b[39m(\u001b[39m\"\u001b[39m\u001b[39m\"\u001b[39m)\n\u001b[1;32m   <a href='file:///home/jasmine/.local/lib/python3.10/site-packages/pandas/core/frame.py?line=9326'>9327</a>\u001b[0m \u001b[39m@Appender\u001b[39m(_merge_doc, indents\u001b[39m=\u001b[39m\u001b[39m2\u001b[39m)\n\u001b[1;32m   <a href='file:///home/jasmine/.local/lib/python3.10/site-packages/pandas/core/frame.py?line=9327'>9328</a>\u001b[0m \u001b[39mdef\u001b[39;00m \u001b[39mmerge\u001b[39m(\n\u001b[0;32m   (...)\u001b[0m\n\u001b[1;32m   <a href='file:///home/jasmine/.local/lib/python3.10/site-packages/pandas/core/frame.py?line=9340'>9341</a>\u001b[0m     validate: \u001b[39mstr\u001b[39m \u001b[39m|\u001b[39m \u001b[39mNone\u001b[39;00m \u001b[39m=\u001b[39m \u001b[39mNone\u001b[39;00m,\n\u001b[1;32m   <a href='file:///home/jasmine/.local/lib/python3.10/site-packages/pandas/core/frame.py?line=9341'>9342</a>\u001b[0m ) \u001b[39m-\u001b[39m\u001b[39m>\u001b[39m DataFrame:\n\u001b[1;32m   <a href='file:///home/jasmine/.local/lib/python3.10/site-packages/pandas/core/frame.py?line=9342'>9343</a>\u001b[0m     \u001b[39mfrom\u001b[39;00m \u001b[39mpandas\u001b[39;00m\u001b[39m.\u001b[39;00m\u001b[39mcore\u001b[39;00m\u001b[39m.\u001b[39;00m\u001b[39mreshape\u001b[39;00m\u001b[39m.\u001b[39;00m\u001b[39mmerge\u001b[39;00m \u001b[39mimport\u001b[39;00m merge\n\u001b[0;32m-> <a href='file:///home/jasmine/.local/lib/python3.10/site-packages/pandas/core/frame.py?line=9344'>9345</a>\u001b[0m     \u001b[39mreturn\u001b[39;00m merge(\n\u001b[1;32m   <a href='file:///home/jasmine/.local/lib/python3.10/site-packages/pandas/core/frame.py?line=9345'>9346</a>\u001b[0m         \u001b[39mself\u001b[39;49m,\n\u001b[1;32m   <a href='file:///home/jasmine/.local/lib/python3.10/site-packages/pandas/core/frame.py?line=9346'>9347</a>\u001b[0m         right,\n\u001b[1;32m   <a href='file:///home/jasmine/.local/lib/python3.10/site-packages/pandas/core/frame.py?line=9347'>9348</a>\u001b[0m         how\u001b[39m=\u001b[39;49mhow,\n\u001b[1;32m   <a href='file:///home/jasmine/.local/lib/python3.10/site-packages/pandas/core/frame.py?line=9348'>9349</a>\u001b[0m         on\u001b[39m=\u001b[39;49mon,\n\u001b[1;32m   <a href='file:///home/jasmine/.local/lib/python3.10/site-packages/pandas/core/frame.py?line=9349'>9350</a>\u001b[0m         left_on\u001b[39m=\u001b[39;49mleft_on,\n\u001b[1;32m   <a href='file:///home/jasmine/.local/lib/python3.10/site-packages/pandas/core/frame.py?line=9350'>9351</a>\u001b[0m         right_on\u001b[39m=\u001b[39;49mright_on,\n\u001b[1;32m   <a href='file:///home/jasmine/.local/lib/python3.10/site-packages/pandas/core/frame.py?line=9351'>9352</a>\u001b[0m         left_index\u001b[39m=\u001b[39;49mleft_index,\n\u001b[1;32m   <a href='file:///home/jasmine/.local/lib/python3.10/site-packages/pandas/core/frame.py?line=9352'>9353</a>\u001b[0m         right_index\u001b[39m=\u001b[39;49mright_index,\n\u001b[1;32m   <a href='file:///home/jasmine/.local/lib/python3.10/site-packages/pandas/core/frame.py?line=9353'>9354</a>\u001b[0m         sort\u001b[39m=\u001b[39;49msort,\n\u001b[1;32m   <a href='file:///home/jasmine/.local/lib/python3.10/site-packages/pandas/core/frame.py?line=9354'>9355</a>\u001b[0m         suffixes\u001b[39m=\u001b[39;49msuffixes,\n\u001b[1;32m   <a href='file:///home/jasmine/.local/lib/python3.10/site-packages/pandas/core/frame.py?line=9355'>9356</a>\u001b[0m         copy\u001b[39m=\u001b[39;49mcopy,\n\u001b[1;32m   <a href='file:///home/jasmine/.local/lib/python3.10/site-packages/pandas/core/frame.py?line=9356'>9357</a>\u001b[0m         indicator\u001b[39m=\u001b[39;49mindicator,\n\u001b[1;32m   <a href='file:///home/jasmine/.local/lib/python3.10/site-packages/pandas/core/frame.py?line=9357'>9358</a>\u001b[0m         validate\u001b[39m=\u001b[39;49mvalidate,\n\u001b[1;32m   <a href='file:///home/jasmine/.local/lib/python3.10/site-packages/pandas/core/frame.py?line=9358'>9359</a>\u001b[0m     )\n",
      "File \u001b[0;32m~/.local/lib/python3.10/site-packages/pandas/core/reshape/merge.py:107\u001b[0m, in \u001b[0;36mmerge\u001b[0;34m(left, right, how, on, left_on, right_on, left_index, right_index, sort, suffixes, copy, indicator, validate)\u001b[0m\n\u001b[1;32m     <a href='file:///home/jasmine/.local/lib/python3.10/site-packages/pandas/core/reshape/merge.py?line=89'>90</a>\u001b[0m \u001b[39m@Substitution\u001b[39m(\u001b[39m\"\u001b[39m\u001b[39m\\n\u001b[39;00m\u001b[39mleft : DataFrame or named Series\u001b[39m\u001b[39m\"\u001b[39m)\n\u001b[1;32m     <a href='file:///home/jasmine/.local/lib/python3.10/site-packages/pandas/core/reshape/merge.py?line=90'>91</a>\u001b[0m \u001b[39m@Appender\u001b[39m(_merge_doc, indents\u001b[39m=\u001b[39m\u001b[39m0\u001b[39m)\n\u001b[1;32m     <a href='file:///home/jasmine/.local/lib/python3.10/site-packages/pandas/core/reshape/merge.py?line=91'>92</a>\u001b[0m \u001b[39mdef\u001b[39;00m \u001b[39mmerge\u001b[39m(\n\u001b[0;32m   (...)\u001b[0m\n\u001b[1;32m    <a href='file:///home/jasmine/.local/lib/python3.10/site-packages/pandas/core/reshape/merge.py?line=104'>105</a>\u001b[0m     validate: \u001b[39mstr\u001b[39m \u001b[39m|\u001b[39m \u001b[39mNone\u001b[39;00m \u001b[39m=\u001b[39m \u001b[39mNone\u001b[39;00m,\n\u001b[1;32m    <a href='file:///home/jasmine/.local/lib/python3.10/site-packages/pandas/core/reshape/merge.py?line=105'>106</a>\u001b[0m ) \u001b[39m-\u001b[39m\u001b[39m>\u001b[39m DataFrame:\n\u001b[0;32m--> <a href='file:///home/jasmine/.local/lib/python3.10/site-packages/pandas/core/reshape/merge.py?line=106'>107</a>\u001b[0m     op \u001b[39m=\u001b[39m _MergeOperation(\n\u001b[1;32m    <a href='file:///home/jasmine/.local/lib/python3.10/site-packages/pandas/core/reshape/merge.py?line=107'>108</a>\u001b[0m         left,\n\u001b[1;32m    <a href='file:///home/jasmine/.local/lib/python3.10/site-packages/pandas/core/reshape/merge.py?line=108'>109</a>\u001b[0m         right,\n\u001b[1;32m    <a href='file:///home/jasmine/.local/lib/python3.10/site-packages/pandas/core/reshape/merge.py?line=109'>110</a>\u001b[0m         how\u001b[39m=\u001b[39;49mhow,\n\u001b[1;32m    <a href='file:///home/jasmine/.local/lib/python3.10/site-packages/pandas/core/reshape/merge.py?line=110'>111</a>\u001b[0m         on\u001b[39m=\u001b[39;49mon,\n\u001b[1;32m    <a href='file:///home/jasmine/.local/lib/python3.10/site-packages/pandas/core/reshape/merge.py?line=111'>112</a>\u001b[0m         left_on\u001b[39m=\u001b[39;49mleft_on,\n\u001b[1;32m    <a href='file:///home/jasmine/.local/lib/python3.10/site-packages/pandas/core/reshape/merge.py?line=112'>113</a>\u001b[0m         right_on\u001b[39m=\u001b[39;49mright_on,\n\u001b[1;32m    <a href='file:///home/jasmine/.local/lib/python3.10/site-packages/pandas/core/reshape/merge.py?line=113'>114</a>\u001b[0m         left_index\u001b[39m=\u001b[39;49mleft_index,\n\u001b[1;32m    <a href='file:///home/jasmine/.local/lib/python3.10/site-packages/pandas/core/reshape/merge.py?line=114'>115</a>\u001b[0m         right_index\u001b[39m=\u001b[39;49mright_index,\n\u001b[1;32m    <a href='file:///home/jasmine/.local/lib/python3.10/site-packages/pandas/core/reshape/merge.py?line=115'>116</a>\u001b[0m         sort\u001b[39m=\u001b[39;49msort,\n\u001b[1;32m    <a href='file:///home/jasmine/.local/lib/python3.10/site-packages/pandas/core/reshape/merge.py?line=116'>117</a>\u001b[0m         suffixes\u001b[39m=\u001b[39;49msuffixes,\n\u001b[1;32m    <a href='file:///home/jasmine/.local/lib/python3.10/site-packages/pandas/core/reshape/merge.py?line=117'>118</a>\u001b[0m         copy\u001b[39m=\u001b[39;49mcopy,\n\u001b[1;32m    <a href='file:///home/jasmine/.local/lib/python3.10/site-packages/pandas/core/reshape/merge.py?line=118'>119</a>\u001b[0m         indicator\u001b[39m=\u001b[39;49mindicator,\n\u001b[1;32m    <a href='file:///home/jasmine/.local/lib/python3.10/site-packages/pandas/core/reshape/merge.py?line=119'>120</a>\u001b[0m         validate\u001b[39m=\u001b[39;49mvalidate,\n\u001b[1;32m    <a href='file:///home/jasmine/.local/lib/python3.10/site-packages/pandas/core/reshape/merge.py?line=120'>121</a>\u001b[0m     )\n\u001b[1;32m    <a href='file:///home/jasmine/.local/lib/python3.10/site-packages/pandas/core/reshape/merge.py?line=121'>122</a>\u001b[0m     \u001b[39mreturn\u001b[39;00m op\u001b[39m.\u001b[39mget_result()\n",
      "File \u001b[0;32m~/.local/lib/python3.10/site-packages/pandas/core/reshape/merge.py:700\u001b[0m, in \u001b[0;36m_MergeOperation.__init__\u001b[0;34m(self, left, right, how, on, left_on, right_on, axis, left_index, right_index, sort, suffixes, copy, indicator, validate)\u001b[0m\n\u001b[1;32m    <a href='file:///home/jasmine/.local/lib/python3.10/site-packages/pandas/core/reshape/merge.py?line=692'>693</a>\u001b[0m \u001b[39mself\u001b[39m\u001b[39m.\u001b[39m_cross \u001b[39m=\u001b[39m cross_col\n\u001b[1;32m    <a href='file:///home/jasmine/.local/lib/python3.10/site-packages/pandas/core/reshape/merge.py?line=694'>695</a>\u001b[0m \u001b[39m# note this function has side effects\u001b[39;00m\n\u001b[1;32m    <a href='file:///home/jasmine/.local/lib/python3.10/site-packages/pandas/core/reshape/merge.py?line=695'>696</a>\u001b[0m (\n\u001b[1;32m    <a href='file:///home/jasmine/.local/lib/python3.10/site-packages/pandas/core/reshape/merge.py?line=696'>697</a>\u001b[0m     \u001b[39mself\u001b[39m\u001b[39m.\u001b[39mleft_join_keys,\n\u001b[1;32m    <a href='file:///home/jasmine/.local/lib/python3.10/site-packages/pandas/core/reshape/merge.py?line=697'>698</a>\u001b[0m     \u001b[39mself\u001b[39m\u001b[39m.\u001b[39mright_join_keys,\n\u001b[1;32m    <a href='file:///home/jasmine/.local/lib/python3.10/site-packages/pandas/core/reshape/merge.py?line=698'>699</a>\u001b[0m     \u001b[39mself\u001b[39m\u001b[39m.\u001b[39mjoin_names,\n\u001b[0;32m--> <a href='file:///home/jasmine/.local/lib/python3.10/site-packages/pandas/core/reshape/merge.py?line=699'>700</a>\u001b[0m ) \u001b[39m=\u001b[39m \u001b[39mself\u001b[39;49m\u001b[39m.\u001b[39;49m_get_merge_keys()\n\u001b[1;32m    <a href='file:///home/jasmine/.local/lib/python3.10/site-packages/pandas/core/reshape/merge.py?line=701'>702</a>\u001b[0m \u001b[39m# validate the merge keys dtypes. We may need to coerce\u001b[39;00m\n\u001b[1;32m    <a href='file:///home/jasmine/.local/lib/python3.10/site-packages/pandas/core/reshape/merge.py?line=702'>703</a>\u001b[0m \u001b[39m# to avoid incompatible dtypes\u001b[39;00m\n\u001b[1;32m    <a href='file:///home/jasmine/.local/lib/python3.10/site-packages/pandas/core/reshape/merge.py?line=703'>704</a>\u001b[0m \u001b[39mself\u001b[39m\u001b[39m.\u001b[39m_maybe_coerce_merge_keys()\n",
      "File \u001b[0;32m~/.local/lib/python3.10/site-packages/pandas/core/reshape/merge.py:1097\u001b[0m, in \u001b[0;36m_MergeOperation._get_merge_keys\u001b[0;34m(self)\u001b[0m\n\u001b[1;32m   <a href='file:///home/jasmine/.local/lib/python3.10/site-packages/pandas/core/reshape/merge.py?line=1094'>1095</a>\u001b[0m \u001b[39mif\u001b[39;00m \u001b[39mnot\u001b[39;00m is_rkey(rk):\n\u001b[1;32m   <a href='file:///home/jasmine/.local/lib/python3.10/site-packages/pandas/core/reshape/merge.py?line=1095'>1096</a>\u001b[0m     \u001b[39mif\u001b[39;00m rk \u001b[39mis\u001b[39;00m \u001b[39mnot\u001b[39;00m \u001b[39mNone\u001b[39;00m:\n\u001b[0;32m-> <a href='file:///home/jasmine/.local/lib/python3.10/site-packages/pandas/core/reshape/merge.py?line=1096'>1097</a>\u001b[0m         right_keys\u001b[39m.\u001b[39mappend(right\u001b[39m.\u001b[39;49m_get_label_or_level_values(rk))\n\u001b[1;32m   <a href='file:///home/jasmine/.local/lib/python3.10/site-packages/pandas/core/reshape/merge.py?line=1097'>1098</a>\u001b[0m     \u001b[39melse\u001b[39;00m:\n\u001b[1;32m   <a href='file:///home/jasmine/.local/lib/python3.10/site-packages/pandas/core/reshape/merge.py?line=1098'>1099</a>\u001b[0m         \u001b[39m# work-around for merge_asof(right_index=True)\u001b[39;00m\n\u001b[1;32m   <a href='file:///home/jasmine/.local/lib/python3.10/site-packages/pandas/core/reshape/merge.py?line=1099'>1100</a>\u001b[0m         right_keys\u001b[39m.\u001b[39mappend(right\u001b[39m.\u001b[39mindex)\n",
      "File \u001b[0;32m~/.local/lib/python3.10/site-packages/pandas/core/generic.py:1840\u001b[0m, in \u001b[0;36mNDFrame._get_label_or_level_values\u001b[0;34m(self, key, axis)\u001b[0m\n\u001b[1;32m   <a href='file:///home/jasmine/.local/lib/python3.10/site-packages/pandas/core/generic.py?line=1837'>1838</a>\u001b[0m     values \u001b[39m=\u001b[39m \u001b[39mself\u001b[39m\u001b[39m.\u001b[39maxes[axis]\u001b[39m.\u001b[39mget_level_values(key)\u001b[39m.\u001b[39m_values\n\u001b[1;32m   <a href='file:///home/jasmine/.local/lib/python3.10/site-packages/pandas/core/generic.py?line=1838'>1839</a>\u001b[0m \u001b[39melse\u001b[39;00m:\n\u001b[0;32m-> <a href='file:///home/jasmine/.local/lib/python3.10/site-packages/pandas/core/generic.py?line=1839'>1840</a>\u001b[0m     \u001b[39mraise\u001b[39;00m \u001b[39mKeyError\u001b[39;00m(key)\n\u001b[1;32m   <a href='file:///home/jasmine/.local/lib/python3.10/site-packages/pandas/core/generic.py?line=1841'>1842</a>\u001b[0m \u001b[39m# Check for duplicates\u001b[39;00m\n\u001b[1;32m   <a href='file:///home/jasmine/.local/lib/python3.10/site-packages/pandas/core/generic.py?line=1842'>1843</a>\u001b[0m \u001b[39mif\u001b[39;00m values\u001b[39m.\u001b[39mndim \u001b[39m>\u001b[39m \u001b[39m1\u001b[39m:\n",
      "\u001b[0;31mKeyError\u001b[0m: '物料号'"
     ]
    }
   ],
   "source": [
    "data = data.merge(products, how='left', \n",
    "                  left_on='产品ID', right_on='物料号')"
   ]
  },
  {
   "cell_type": "markdown",
   "metadata": {},
   "source": [
    "## 剔除多余字段"
   ]
  },
  {
   "cell_type": "code",
   "execution_count": 15,
   "metadata": {},
   "outputs": [
    {
     "ename": "KeyError",
     "evalue": "\"['物料号'] not found in axis\"",
     "output_type": "error",
     "traceback": [
      "\u001b[0;31m---------------------------------------------------------------------------\u001b[0m",
      "\u001b[0;31mKeyError\u001b[0m                                  Traceback (most recent call last)",
      "\u001b[1;32m/mnt/d/ShareLinuxFile/Pyenv/DA-code/超市数据-pandas/案例代码.ipynb Cell 23'\u001b[0m in \u001b[0;36m<cell line: 1>\u001b[0;34m()\u001b[0m\n\u001b[0;32m----> <a href='vscode-notebook-cell://wsl%2Bubuntu/mnt/d/ShareLinuxFile/Pyenv/DA-code/%E8%B6%85%E5%B8%82%E6%95%B0%E6%8D%AE-pandas/%E6%A1%88%E4%BE%8B%E4%BB%A3%E7%A0%81.ipynb#ch0000022vscode-remote?line=0'>1</a>\u001b[0m data\u001b[39m.\u001b[39;49mdrop([\u001b[39m'\u001b[39;49m\u001b[39m物料号\u001b[39;49m\u001b[39m'\u001b[39;49m,\u001b[39m'\u001b[39;49m\u001b[39m行 Id\u001b[39;49m\u001b[39m'\u001b[39;49m],\n\u001b[1;32m      <a href='vscode-notebook-cell://wsl%2Bubuntu/mnt/d/ShareLinuxFile/Pyenv/DA-code/%E8%B6%85%E5%B8%82%E6%95%B0%E6%8D%AE-pandas/%E6%A1%88%E4%BE%8B%E4%BB%A3%E7%A0%81.ipynb#ch0000022vscode-remote?line=1'>2</a>\u001b[0m           axis\u001b[39m=\u001b[39;49m\u001b[39m1\u001b[39;49m,inplace\u001b[39m=\u001b[39;49m\u001b[39mTrue\u001b[39;49;00m)\n",
      "File \u001b[0;32m~/.local/lib/python3.10/site-packages/pandas/util/_decorators.py:311\u001b[0m, in \u001b[0;36mdeprecate_nonkeyword_arguments.<locals>.decorate.<locals>.wrapper\u001b[0;34m(*args, **kwargs)\u001b[0m\n\u001b[1;32m    <a href='file:///home/jasmine/.local/lib/python3.10/site-packages/pandas/util/_decorators.py?line=304'>305</a>\u001b[0m \u001b[39mif\u001b[39;00m \u001b[39mlen\u001b[39m(args) \u001b[39m>\u001b[39m num_allow_args:\n\u001b[1;32m    <a href='file:///home/jasmine/.local/lib/python3.10/site-packages/pandas/util/_decorators.py?line=305'>306</a>\u001b[0m     warnings\u001b[39m.\u001b[39mwarn(\n\u001b[1;32m    <a href='file:///home/jasmine/.local/lib/python3.10/site-packages/pandas/util/_decorators.py?line=306'>307</a>\u001b[0m         msg\u001b[39m.\u001b[39mformat(arguments\u001b[39m=\u001b[39marguments),\n\u001b[1;32m    <a href='file:///home/jasmine/.local/lib/python3.10/site-packages/pandas/util/_decorators.py?line=307'>308</a>\u001b[0m         \u001b[39mFutureWarning\u001b[39;00m,\n\u001b[1;32m    <a href='file:///home/jasmine/.local/lib/python3.10/site-packages/pandas/util/_decorators.py?line=308'>309</a>\u001b[0m         stacklevel\u001b[39m=\u001b[39mstacklevel,\n\u001b[1;32m    <a href='file:///home/jasmine/.local/lib/python3.10/site-packages/pandas/util/_decorators.py?line=309'>310</a>\u001b[0m     )\n\u001b[0;32m--> <a href='file:///home/jasmine/.local/lib/python3.10/site-packages/pandas/util/_decorators.py?line=310'>311</a>\u001b[0m \u001b[39mreturn\u001b[39;00m func(\u001b[39m*\u001b[39;49margs, \u001b[39m*\u001b[39;49m\u001b[39m*\u001b[39;49mkwargs)\n",
      "File \u001b[0;32m~/.local/lib/python3.10/site-packages/pandas/core/frame.py:4954\u001b[0m, in \u001b[0;36mDataFrame.drop\u001b[0;34m(self, labels, axis, index, columns, level, inplace, errors)\u001b[0m\n\u001b[1;32m   <a href='file:///home/jasmine/.local/lib/python3.10/site-packages/pandas/core/frame.py?line=4805'>4806</a>\u001b[0m \u001b[39m@deprecate_nonkeyword_arguments\u001b[39m(version\u001b[39m=\u001b[39m\u001b[39mNone\u001b[39;00m, allowed_args\u001b[39m=\u001b[39m[\u001b[39m\"\u001b[39m\u001b[39mself\u001b[39m\u001b[39m\"\u001b[39m, \u001b[39m\"\u001b[39m\u001b[39mlabels\u001b[39m\u001b[39m\"\u001b[39m])\n\u001b[1;32m   <a href='file:///home/jasmine/.local/lib/python3.10/site-packages/pandas/core/frame.py?line=4806'>4807</a>\u001b[0m \u001b[39mdef\u001b[39;00m \u001b[39mdrop\u001b[39m(\n\u001b[1;32m   <a href='file:///home/jasmine/.local/lib/python3.10/site-packages/pandas/core/frame.py?line=4807'>4808</a>\u001b[0m     \u001b[39mself\u001b[39m,\n\u001b[0;32m   (...)\u001b[0m\n\u001b[1;32m   <a href='file:///home/jasmine/.local/lib/python3.10/site-packages/pandas/core/frame.py?line=4814'>4815</a>\u001b[0m     errors: \u001b[39mstr\u001b[39m \u001b[39m=\u001b[39m \u001b[39m\"\u001b[39m\u001b[39mraise\u001b[39m\u001b[39m\"\u001b[39m,\n\u001b[1;32m   <a href='file:///home/jasmine/.local/lib/python3.10/site-packages/pandas/core/frame.py?line=4815'>4816</a>\u001b[0m ):\n\u001b[1;32m   <a href='file:///home/jasmine/.local/lib/python3.10/site-packages/pandas/core/frame.py?line=4816'>4817</a>\u001b[0m     \u001b[39m\"\"\"\u001b[39;00m\n\u001b[1;32m   <a href='file:///home/jasmine/.local/lib/python3.10/site-packages/pandas/core/frame.py?line=4817'>4818</a>\u001b[0m \u001b[39m    Drop specified labels from rows or columns.\u001b[39;00m\n\u001b[1;32m   <a href='file:///home/jasmine/.local/lib/python3.10/site-packages/pandas/core/frame.py?line=4818'>4819</a>\u001b[0m \n\u001b[0;32m   (...)\u001b[0m\n\u001b[1;32m   <a href='file:///home/jasmine/.local/lib/python3.10/site-packages/pandas/core/frame.py?line=4951'>4952</a>\u001b[0m \u001b[39m            weight  1.0     0.8\u001b[39;00m\n\u001b[1;32m   <a href='file:///home/jasmine/.local/lib/python3.10/site-packages/pandas/core/frame.py?line=4952'>4953</a>\u001b[0m \u001b[39m    \"\"\"\u001b[39;00m\n\u001b[0;32m-> <a href='file:///home/jasmine/.local/lib/python3.10/site-packages/pandas/core/frame.py?line=4953'>4954</a>\u001b[0m     \u001b[39mreturn\u001b[39;00m \u001b[39msuper\u001b[39;49m()\u001b[39m.\u001b[39;49mdrop(\n\u001b[1;32m   <a href='file:///home/jasmine/.local/lib/python3.10/site-packages/pandas/core/frame.py?line=4954'>4955</a>\u001b[0m         labels\u001b[39m=\u001b[39;49mlabels,\n\u001b[1;32m   <a href='file:///home/jasmine/.local/lib/python3.10/site-packages/pandas/core/frame.py?line=4955'>4956</a>\u001b[0m         axis\u001b[39m=\u001b[39;49maxis,\n\u001b[1;32m   <a href='file:///home/jasmine/.local/lib/python3.10/site-packages/pandas/core/frame.py?line=4956'>4957</a>\u001b[0m         index\u001b[39m=\u001b[39;49mindex,\n\u001b[1;32m   <a href='file:///home/jasmine/.local/lib/python3.10/site-packages/pandas/core/frame.py?line=4957'>4958</a>\u001b[0m         columns\u001b[39m=\u001b[39;49mcolumns,\n\u001b[1;32m   <a href='file:///home/jasmine/.local/lib/python3.10/site-packages/pandas/core/frame.py?line=4958'>4959</a>\u001b[0m         level\u001b[39m=\u001b[39;49mlevel,\n\u001b[1;32m   <a href='file:///home/jasmine/.local/lib/python3.10/site-packages/pandas/core/frame.py?line=4959'>4960</a>\u001b[0m         inplace\u001b[39m=\u001b[39;49minplace,\n\u001b[1;32m   <a href='file:///home/jasmine/.local/lib/python3.10/site-packages/pandas/core/frame.py?line=4960'>4961</a>\u001b[0m         errors\u001b[39m=\u001b[39;49merrors,\n\u001b[1;32m   <a href='file:///home/jasmine/.local/lib/python3.10/site-packages/pandas/core/frame.py?line=4961'>4962</a>\u001b[0m     )\n",
      "File \u001b[0;32m~/.local/lib/python3.10/site-packages/pandas/core/generic.py:4267\u001b[0m, in \u001b[0;36mNDFrame.drop\u001b[0;34m(self, labels, axis, index, columns, level, inplace, errors)\u001b[0m\n\u001b[1;32m   <a href='file:///home/jasmine/.local/lib/python3.10/site-packages/pandas/core/generic.py?line=4264'>4265</a>\u001b[0m \u001b[39mfor\u001b[39;00m axis, labels \u001b[39min\u001b[39;00m axes\u001b[39m.\u001b[39mitems():\n\u001b[1;32m   <a href='file:///home/jasmine/.local/lib/python3.10/site-packages/pandas/core/generic.py?line=4265'>4266</a>\u001b[0m     \u001b[39mif\u001b[39;00m labels \u001b[39mis\u001b[39;00m \u001b[39mnot\u001b[39;00m \u001b[39mNone\u001b[39;00m:\n\u001b[0;32m-> <a href='file:///home/jasmine/.local/lib/python3.10/site-packages/pandas/core/generic.py?line=4266'>4267</a>\u001b[0m         obj \u001b[39m=\u001b[39m obj\u001b[39m.\u001b[39;49m_drop_axis(labels, axis, level\u001b[39m=\u001b[39;49mlevel, errors\u001b[39m=\u001b[39;49merrors)\n\u001b[1;32m   <a href='file:///home/jasmine/.local/lib/python3.10/site-packages/pandas/core/generic.py?line=4268'>4269</a>\u001b[0m \u001b[39mif\u001b[39;00m inplace:\n\u001b[1;32m   <a href='file:///home/jasmine/.local/lib/python3.10/site-packages/pandas/core/generic.py?line=4269'>4270</a>\u001b[0m     \u001b[39mself\u001b[39m\u001b[39m.\u001b[39m_update_inplace(obj)\n",
      "File \u001b[0;32m~/.local/lib/python3.10/site-packages/pandas/core/generic.py:4311\u001b[0m, in \u001b[0;36mNDFrame._drop_axis\u001b[0;34m(self, labels, axis, level, errors, consolidate, only_slice)\u001b[0m\n\u001b[1;32m   <a href='file:///home/jasmine/.local/lib/python3.10/site-packages/pandas/core/generic.py?line=4308'>4309</a>\u001b[0m         new_axis \u001b[39m=\u001b[39m axis\u001b[39m.\u001b[39mdrop(labels, level\u001b[39m=\u001b[39mlevel, errors\u001b[39m=\u001b[39merrors)\n\u001b[1;32m   <a href='file:///home/jasmine/.local/lib/python3.10/site-packages/pandas/core/generic.py?line=4309'>4310</a>\u001b[0m     \u001b[39melse\u001b[39;00m:\n\u001b[0;32m-> <a href='file:///home/jasmine/.local/lib/python3.10/site-packages/pandas/core/generic.py?line=4310'>4311</a>\u001b[0m         new_axis \u001b[39m=\u001b[39m axis\u001b[39m.\u001b[39;49mdrop(labels, errors\u001b[39m=\u001b[39;49merrors)\n\u001b[1;32m   <a href='file:///home/jasmine/.local/lib/python3.10/site-packages/pandas/core/generic.py?line=4311'>4312</a>\u001b[0m     indexer \u001b[39m=\u001b[39m axis\u001b[39m.\u001b[39mget_indexer(new_axis)\n\u001b[1;32m   <a href='file:///home/jasmine/.local/lib/python3.10/site-packages/pandas/core/generic.py?line=4313'>4314</a>\u001b[0m \u001b[39m# Case for non-unique axis\u001b[39;00m\n\u001b[1;32m   <a href='file:///home/jasmine/.local/lib/python3.10/site-packages/pandas/core/generic.py?line=4314'>4315</a>\u001b[0m \u001b[39melse\u001b[39;00m:\n",
      "File \u001b[0;32m~/.local/lib/python3.10/site-packages/pandas/core/indexes/base.py:6644\u001b[0m, in \u001b[0;36mIndex.drop\u001b[0;34m(self, labels, errors)\u001b[0m\n\u001b[1;32m   <a href='file:///home/jasmine/.local/lib/python3.10/site-packages/pandas/core/indexes/base.py?line=6641'>6642</a>\u001b[0m \u001b[39mif\u001b[39;00m mask\u001b[39m.\u001b[39many():\n\u001b[1;32m   <a href='file:///home/jasmine/.local/lib/python3.10/site-packages/pandas/core/indexes/base.py?line=6642'>6643</a>\u001b[0m     \u001b[39mif\u001b[39;00m errors \u001b[39m!=\u001b[39m \u001b[39m\"\u001b[39m\u001b[39mignore\u001b[39m\u001b[39m\"\u001b[39m:\n\u001b[0;32m-> <a href='file:///home/jasmine/.local/lib/python3.10/site-packages/pandas/core/indexes/base.py?line=6643'>6644</a>\u001b[0m         \u001b[39mraise\u001b[39;00m \u001b[39mKeyError\u001b[39;00m(\u001b[39mf\u001b[39m\u001b[39m\"\u001b[39m\u001b[39m{\u001b[39;00m\u001b[39mlist\u001b[39m(labels[mask])\u001b[39m}\u001b[39;00m\u001b[39m not found in axis\u001b[39m\u001b[39m\"\u001b[39m)\n\u001b[1;32m   <a href='file:///home/jasmine/.local/lib/python3.10/site-packages/pandas/core/indexes/base.py?line=6644'>6645</a>\u001b[0m     indexer \u001b[39m=\u001b[39m indexer[\u001b[39m~\u001b[39mmask]\n\u001b[1;32m   <a href='file:///home/jasmine/.local/lib/python3.10/site-packages/pandas/core/indexes/base.py?line=6645'>6646</a>\u001b[0m \u001b[39mreturn\u001b[39;00m \u001b[39mself\u001b[39m\u001b[39m.\u001b[39mdelete(indexer)\n",
      "\u001b[0;31mKeyError\u001b[0m: \"['物料号'] not found in axis\""
     ]
    }
   ],
   "source": [
    "data.drop(['物料号','行 Id'],\n",
    "          axis=1,inplace=True)"
   ]
  },
  {
   "cell_type": "code",
   "execution_count": 509,
   "metadata": {},
   "outputs": [
    {
     "data": {
      "text/html": [
       "<div>\n",
       "<style scoped>\n",
       "    .dataframe tbody tr th:only-of-type {\n",
       "        vertical-align: middle;\n",
       "    }\n",
       "\n",
       "    .dataframe tbody tr th {\n",
       "        vertical-align: top;\n",
       "    }\n",
       "\n",
       "    .dataframe thead th {\n",
       "        text-align: right;\n",
       "    }\n",
       "</style>\n",
       "<table border=\"1\" class=\"dataframe\">\n",
       "  <thead>\n",
       "    <tr style=\"text-align: right;\">\n",
       "      <th></th>\n",
       "      <th>订单ID</th>\n",
       "      <th>订单日期</th>\n",
       "      <th>客户ID</th>\n",
       "      <th>产品ID</th>\n",
       "      <th>数量</th>\n",
       "      <th>销售额</th>\n",
       "      <th>客户名称</th>\n",
       "      <th>客户类型</th>\n",
       "      <th>类别</th>\n",
       "      <th>细分</th>\n",
       "      <th>品牌</th>\n",
       "      <th>产品名称</th>\n",
       "      <th>规格</th>\n",
       "    </tr>\n",
       "  </thead>\n",
       "  <tbody>\n",
       "    <tr>\n",
       "      <th>0</th>\n",
       "      <td>US-2021-1357144</td>\n",
       "      <td>2021-04-27</td>\n",
       "      <td>14485</td>\n",
       "      <td>10002717</td>\n",
       "      <td>2</td>\n",
       "      <td>130</td>\n",
       "      <td>曾惠</td>\n",
       "      <td>公司</td>\n",
       "      <td>办公用</td>\n",
       "      <td>用品</td>\n",
       "      <td>Fiskars</td>\n",
       "      <td>剪刀</td>\n",
       "      <td>蓝色</td>\n",
       "    </tr>\n",
       "    <tr>\n",
       "      <th>1</th>\n",
       "      <td>CN-2021-1973789</td>\n",
       "      <td>2021-06-15</td>\n",
       "      <td>10165</td>\n",
       "      <td>10004832</td>\n",
       "      <td>2</td>\n",
       "      <td>125</td>\n",
       "      <td>许安</td>\n",
       "      <td>消费者</td>\n",
       "      <td>办公用</td>\n",
       "      <td>信封</td>\n",
       "      <td>Kraft</td>\n",
       "      <td>商业信封</td>\n",
       "      <td>银色</td>\n",
       "    </tr>\n",
       "    <tr>\n",
       "      <th>2</th>\n",
       "      <td>CN-2021-1973789</td>\n",
       "      <td>2021-06-15</td>\n",
       "      <td>10165</td>\n",
       "      <td>10004832</td>\n",
       "      <td>2</td>\n",
       "      <td>125</td>\n",
       "      <td>许安</td>\n",
       "      <td>消费者</td>\n",
       "      <td>办公用</td>\n",
       "      <td>信封</td>\n",
       "      <td>GlobeWeis</td>\n",
       "      <td>搭扣信封</td>\n",
       "      <td>红色</td>\n",
       "    </tr>\n",
       "    <tr>\n",
       "      <th>3</th>\n",
       "      <td>CN-2021-1973789</td>\n",
       "      <td>2021-06-15</td>\n",
       "      <td>10165</td>\n",
       "      <td>10001505</td>\n",
       "      <td>2</td>\n",
       "      <td>32</td>\n",
       "      <td>许安</td>\n",
       "      <td>消费者</td>\n",
       "      <td>办公用</td>\n",
       "      <td>装订</td>\n",
       "      <td>Cardinal</td>\n",
       "      <td>孔加固材料</td>\n",
       "      <td>回收</td>\n",
       "    </tr>\n",
       "    <tr>\n",
       "      <th>4</th>\n",
       "      <td>US-2021-3017568</td>\n",
       "      <td>2021-12-09</td>\n",
       "      <td>17170</td>\n",
       "      <td>10003746</td>\n",
       "      <td>4</td>\n",
       "      <td>321</td>\n",
       "      <td>宋良</td>\n",
       "      <td>公司</td>\n",
       "      <td>办公用</td>\n",
       "      <td>用品</td>\n",
       "      <td>Kleencut</td>\n",
       "      <td>开信刀</td>\n",
       "      <td>工业</td>\n",
       "    </tr>\n",
       "  </tbody>\n",
       "</table>\n",
       "</div>"
      ],
      "text/plain": [
       "              订单ID       订单日期   客户ID      产品ID  数量  销售额 客户名称 客户类型   类别  细分  \\\n",
       "0  US-2021-1357144 2021-04-27  14485  10002717   2  130   曾惠   公司  办公用  用品   \n",
       "1  CN-2021-1973789 2021-06-15  10165  10004832   2  125   许安  消费者  办公用  信封   \n",
       "2  CN-2021-1973789 2021-06-15  10165  10004832   2  125   许安  消费者  办公用  信封   \n",
       "3  CN-2021-1973789 2021-06-15  10165  10001505   2   32   许安  消费者  办公用  装订   \n",
       "4  US-2021-3017568 2021-12-09  17170  10003746   4  321   宋良   公司  办公用  用品   \n",
       "\n",
       "           品牌   产品名称   规格  \n",
       "0    Fiskars      剪刀   蓝色  \n",
       "1      Kraft    商业信封   银色  \n",
       "2  GlobeWeis    搭扣信封   红色  \n",
       "3   Cardinal   孔加固材料   回收  \n",
       "4   Kleencut     开信刀   工业  "
      ]
     },
     "execution_count": 509,
     "metadata": {},
     "output_type": "execute_result"
    }
   ],
   "source": [
    "data.head()"
   ]
  },
  {
   "cell_type": "markdown",
   "metadata": {},
   "source": [
    "## 时间函数 —— 剔除非分析范围数据"
   ]
  },
  {
   "cell_type": "code",
   "execution_count": 514,
   "metadata": {},
   "outputs": [],
   "source": [
    "data= data[data['订单日期'].between('2019-01-01','2021-08-13')]"
   ]
  },
  {
   "cell_type": "markdown",
   "metadata": {},
   "source": [
    "## 文本处理 —— 剔除不符合业务场景数据"
   ]
  },
  {
   "cell_type": "code",
   "execution_count": 401,
   "metadata": {},
   "outputs": [],
   "source": [
    "data = data[~data['产品名称'].str.contains('测试')]"
   ]
  },
  {
   "cell_type": "code",
   "execution_count": 404,
   "metadata": {},
   "outputs": [
    {
     "data": {
      "text/plain": [
       "消费者     4845\n",
       "公司      3003\n",
       "小型企业    1632\n",
       "Name: 客户类型, dtype: int64"
      ]
     },
     "execution_count": 404,
     "metadata": {},
     "output_type": "execute_result"
    }
   ],
   "source": [
    "data['客户类型'].value_counts()"
   ]
  },
  {
   "cell_type": "code",
   "execution_count": 354,
   "metadata": {},
   "outputs": [],
   "source": [
    "data = data[data['客户类型']=='消费者']"
   ]
  },
  {
   "cell_type": "markdown",
   "metadata": {},
   "source": [
    "# "
   ]
  },
  {
   "cell_type": "markdown",
   "metadata": {},
   "source": [
    "# 特征构造\n",
    "## 消费指标"
   ]
  },
  {
   "cell_type": "code",
   "execution_count": 491,
   "metadata": {},
   "outputs": [],
   "source": [
    "consume_df = data.groupby('客户ID').agg(累计消费金额=('销售额',sum), \n",
    "                         累计消费件数=('数量',sum),\n",
    "                         累计消费次数=('订单日期', pd.Series.nunique), \n",
    "                         最近消费日期=('订单日期',max)\n",
    "                        )"
   ]
  },
  {
   "cell_type": "code",
   "execution_count": 517,
   "metadata": {},
   "outputs": [],
   "source": [
    "# 最近一次消费至今天数\n",
    "from datetime import datetime\n",
    "consume_df['休眠天数'] = datetime(2021,8,14) - consume_df['最近消费日期']"
   ]
  },
  {
   "cell_type": "code",
   "execution_count": 532,
   "metadata": {},
   "outputs": [],
   "source": [
    "consume_df['休眠天数'] = consume_df['休眠天数'].map(lambda x:x.days)"
   ]
  },
  {
   "cell_type": "code",
   "execution_count": 533,
   "metadata": {},
   "outputs": [
    {
     "data": {
      "text/html": [
       "<div>\n",
       "<style scoped>\n",
       "    .dataframe tbody tr th:only-of-type {\n",
       "        vertical-align: middle;\n",
       "    }\n",
       "\n",
       "    .dataframe tbody tr th {\n",
       "        vertical-align: top;\n",
       "    }\n",
       "\n",
       "    .dataframe thead th {\n",
       "        text-align: right;\n",
       "    }\n",
       "</style>\n",
       "<table border=\"1\" class=\"dataframe\">\n",
       "  <thead>\n",
       "    <tr style=\"text-align: right;\">\n",
       "      <th></th>\n",
       "      <th>累计消费金额</th>\n",
       "      <th>累计消费件数</th>\n",
       "      <th>累计消费次数</th>\n",
       "      <th>最近消费日期</th>\n",
       "      <th>休眠天数</th>\n",
       "      <th>客单价</th>\n",
       "      <th>客单价区间</th>\n",
       "      <th>是否异常</th>\n",
       "    </tr>\n",
       "    <tr>\n",
       "      <th>客户ID</th>\n",
       "      <th></th>\n",
       "      <th></th>\n",
       "      <th></th>\n",
       "      <th></th>\n",
       "      <th></th>\n",
       "      <th></th>\n",
       "      <th></th>\n",
       "      <th></th>\n",
       "    </tr>\n",
       "  </thead>\n",
       "  <tbody>\n",
       "    <tr>\n",
       "      <th>10015</th>\n",
       "      <td>10103</td>\n",
       "      <td>37</td>\n",
       "      <td>5</td>\n",
       "      <td>2020-09-03</td>\n",
       "      <td>345</td>\n",
       "      <td>2020.600000</td>\n",
       "      <td>(115.834, 4772.3]</td>\n",
       "      <td>0</td>\n",
       "    </tr>\n",
       "    <tr>\n",
       "      <th>10030</th>\n",
       "      <td>27717</td>\n",
       "      <td>80</td>\n",
       "      <td>8</td>\n",
       "      <td>2021-04-30</td>\n",
       "      <td>106</td>\n",
       "      <td>3464.625000</td>\n",
       "      <td>(115.834, 4772.3]</td>\n",
       "      <td>0</td>\n",
       "    </tr>\n",
       "    <tr>\n",
       "      <th>10045</th>\n",
       "      <td>20974</td>\n",
       "      <td>97</td>\n",
       "      <td>7</td>\n",
       "      <td>2021-07-16</td>\n",
       "      <td>29</td>\n",
       "      <td>2996.285714</td>\n",
       "      <td>(115.834, 4772.3]</td>\n",
       "      <td>0</td>\n",
       "    </tr>\n",
       "    <tr>\n",
       "      <th>10060</th>\n",
       "      <td>50407</td>\n",
       "      <td>80</td>\n",
       "      <td>7</td>\n",
       "      <td>2021-08-13</td>\n",
       "      <td>1</td>\n",
       "      <td>7201.000000</td>\n",
       "      <td>(4772.3, 9405.6]</td>\n",
       "      <td>0</td>\n",
       "    </tr>\n",
       "    <tr>\n",
       "      <th>10075</th>\n",
       "      <td>29920</td>\n",
       "      <td>71</td>\n",
       "      <td>7</td>\n",
       "      <td>2021-08-11</td>\n",
       "      <td>3</td>\n",
       "      <td>4274.285714</td>\n",
       "      <td>(115.834, 4772.3]</td>\n",
       "      <td>0</td>\n",
       "    </tr>\n",
       "  </tbody>\n",
       "</table>\n",
       "</div>"
      ],
      "text/plain": [
       "       累计消费金额  累计消费件数  累计消费次数     最近消费日期  休眠天数          客单价  \\\n",
       "客户ID                                                          \n",
       "10015   10103      37       5 2020-09-03   345  2020.600000   \n",
       "10030   27717      80       8 2021-04-30   106  3464.625000   \n",
       "10045   20974      97       7 2021-07-16    29  2996.285714   \n",
       "10060   50407      80       7 2021-08-13     1  7201.000000   \n",
       "10075   29920      71       7 2021-08-11     3  4274.285714   \n",
       "\n",
       "                   客单价区间  是否异常  \n",
       "客户ID                            \n",
       "10015  (115.834, 4772.3]     0  \n",
       "10030  (115.834, 4772.3]     0  \n",
       "10045  (115.834, 4772.3]     0  \n",
       "10060   (4772.3, 9405.6]     0  \n",
       "10075  (115.834, 4772.3]     0  "
      ]
     },
     "execution_count": 533,
     "metadata": {},
     "output_type": "execute_result"
    }
   ],
   "source": [
    "consume_df.head()"
   ]
  },
  {
   "cell_type": "code",
   "execution_count": 534,
   "metadata": {},
   "outputs": [],
   "source": [
    "consume_df['客单价'] = consume_df['累计消费金额']/consume_df['累计消费次数']"
   ]
  },
  {
   "cell_type": "markdown",
   "metadata": {},
   "source": [
    "## 划分区间"
   ]
  },
  {
   "cell_type": "code",
   "execution_count": 18,
   "metadata": {},
   "outputs": [
    {
     "ename": "NameError",
     "evalue": "name 'consume_df' is not defined",
     "output_type": "error",
     "traceback": [
      "\u001b[0;31m---------------------------------------------------------------------------\u001b[0m",
      "\u001b[0;31mNameError\u001b[0m                                 Traceback (most recent call last)",
      "\u001b[1;32m/mnt/d/ShareLinuxFile/Pyenv/DA-code/超市数据-pandas/案例代码.ipynb Cell 39'\u001b[0m in \u001b[0;36m<cell line: 1>\u001b[0;34m()\u001b[0m\n\u001b[0;32m----> <a href='vscode-notebook-cell://wsl%2Bubuntu/mnt/d/ShareLinuxFile/Pyenv/DA-code/%E8%B6%85%E5%B8%82%E6%95%B0%E6%8D%AE-pandas/%E6%A1%88%E4%BE%8B%E4%BB%A3%E7%A0%81.ipynb#ch0000038vscode-remote?line=0'>1</a>\u001b[0m consume_df[\u001b[39m'\u001b[39m\u001b[39m客单价区间\u001b[39m\u001b[39m'\u001b[39m]  \u001b[39m=\u001b[39m pd\u001b[39m.\u001b[39mcut(consume_df[\u001b[39m'\u001b[39m\u001b[39m客单价\u001b[39m\u001b[39m'\u001b[39m],\n\u001b[1;32m      <a href='vscode-notebook-cell://wsl%2Bubuntu/mnt/d/ShareLinuxFile/Pyenv/DA-code/%E8%B6%85%E5%B8%82%E6%95%B0%E6%8D%AE-pandas/%E6%A1%88%E4%BE%8B%E4%BB%A3%E7%A0%81.ipynb#ch0000038vscode-remote?line=1'>2</a>\u001b[0m                                    bins\u001b[39m=\u001b[39m\u001b[39m5\u001b[39m)\n",
      "\u001b[0;31mNameError\u001b[0m: name 'consume_df' is not defined"
     ]
    }
   ],
   "source": [
    "consume_df['客单价区间']  = pd.cut(consume_df['客单价'],\n",
    "                                   bins=5)"
   ]
  },
  {
   "cell_type": "code",
   "execution_count": 536,
   "metadata": {},
   "outputs": [
    {
     "data": {
      "text/plain": [
       "(115.834, 4772.3]     505\n",
       "(4772.3, 9405.6]      223\n",
       "(9405.6, 14038.9]      34\n",
       "(14038.9, 18672.2]     15\n",
       "(18672.2, 23305.5]      2\n",
       "Name: 客单价区间, dtype: int64"
      ]
     },
     "execution_count": 536,
     "metadata": {},
     "output_type": "execute_result"
    }
   ],
   "source": [
    "consume_df['客单价区间'].value_counts()"
   ]
  },
  {
   "cell_type": "code",
   "execution_count": null,
   "metadata": {},
   "outputs": [],
   "source": []
  },
  {
   "cell_type": "code",
   "execution_count": 537,
   "metadata": {},
   "outputs": [],
   "source": [
    "rfm_features = ['累计消费金额','累计消费次数','休眠天数']"
   ]
  },
  {
   "cell_type": "markdown",
   "metadata": {},
   "source": [
    "# 剔除异常值\n",
    "## Tukey's Test"
   ]
  },
  {
   "cell_type": "code",
   "execution_count": 538,
   "metadata": {},
   "outputs": [],
   "source": [
    "def turkeys_test(fea):\n",
    "    Q3 = consume_df[fea].quantile(0.75)\n",
    "    Q1 = consume_df[fea].quantile(0.25)\n",
    "    max_ = Q3+1.5*(Q3-Q1)\n",
    "    min_ = Q1-1.5*(Q3-Q1)\n",
    "    \n",
    "    if min_<0:\n",
    "        min_ =0\n",
    "    \n",
    "    return max_, min_"
   ]
  },
  {
   "cell_type": "code",
   "execution_count": 539,
   "metadata": {},
   "outputs": [],
   "source": [
    "consume_df['是否异常'] = 0\n",
    "\n",
    "for fea in rfm_features:\n",
    "    max_, min_= turkeys_test(fea)\n",
    "    outlet = consume_df[fea].between(min_,max_)  #bool\n",
    "    consume_df.loc[~outlet,'是否异常']=1"
   ]
  },
  {
   "cell_type": "code",
   "execution_count": 540,
   "metadata": {},
   "outputs": [],
   "source": [
    "consume_df = consume_df[consume_df['是否异常']==0]"
   ]
  },
  {
   "cell_type": "code",
   "execution_count": 541,
   "metadata": {},
   "outputs": [
    {
     "data": {
      "text/html": [
       "<div>\n",
       "<style scoped>\n",
       "    .dataframe tbody tr th:only-of-type {\n",
       "        vertical-align: middle;\n",
       "    }\n",
       "\n",
       "    .dataframe tbody tr th {\n",
       "        vertical-align: top;\n",
       "    }\n",
       "\n",
       "    .dataframe thead th {\n",
       "        text-align: right;\n",
       "    }\n",
       "</style>\n",
       "<table border=\"1\" class=\"dataframe\">\n",
       "  <thead>\n",
       "    <tr style=\"text-align: right;\">\n",
       "      <th></th>\n",
       "      <th>累计消费金额</th>\n",
       "      <th>累计消费次数</th>\n",
       "      <th>休眠天数</th>\n",
       "    </tr>\n",
       "  </thead>\n",
       "  <tbody>\n",
       "    <tr>\n",
       "      <th>count</th>\n",
       "      <td>710.000000</td>\n",
       "      <td>710.000000</td>\n",
       "      <td>710.000000</td>\n",
       "    </tr>\n",
       "    <tr>\n",
       "      <th>mean</th>\n",
       "      <td>17588.476056</td>\n",
       "      <td>4.216901</td>\n",
       "      <td>153.387324</td>\n",
       "    </tr>\n",
       "    <tr>\n",
       "      <th>std</th>\n",
       "      <td>12490.150433</td>\n",
       "      <td>1.688172</td>\n",
       "      <td>132.789272</td>\n",
       "    </tr>\n",
       "    <tr>\n",
       "      <th>min</th>\n",
       "      <td>139.000000</td>\n",
       "      <td>1.000000</td>\n",
       "      <td>1.000000</td>\n",
       "    </tr>\n",
       "    <tr>\n",
       "      <th>25%</th>\n",
       "      <td>7549.500000</td>\n",
       "      <td>3.000000</td>\n",
       "      <td>50.000000</td>\n",
       "    </tr>\n",
       "    <tr>\n",
       "      <th>50%</th>\n",
       "      <td>15228.000000</td>\n",
       "      <td>4.000000</td>\n",
       "      <td>99.000000</td>\n",
       "    </tr>\n",
       "    <tr>\n",
       "      <th>75%</th>\n",
       "      <td>25045.250000</td>\n",
       "      <td>5.000000</td>\n",
       "      <td>245.000000</td>\n",
       "    </tr>\n",
       "    <tr>\n",
       "      <th>max</th>\n",
       "      <td>53850.000000</td>\n",
       "      <td>8.000000</td>\n",
       "      <td>561.000000</td>\n",
       "    </tr>\n",
       "  </tbody>\n",
       "</table>\n",
       "</div>"
      ],
      "text/plain": [
       "             累计消费金额      累计消费次数        休眠天数\n",
       "count    710.000000  710.000000  710.000000\n",
       "mean   17588.476056    4.216901  153.387324\n",
       "std    12490.150433    1.688172  132.789272\n",
       "min      139.000000    1.000000    1.000000\n",
       "25%     7549.500000    3.000000   50.000000\n",
       "50%    15228.000000    4.000000   99.000000\n",
       "75%    25045.250000    5.000000  245.000000\n",
       "max    53850.000000    8.000000  561.000000"
      ]
     },
     "execution_count": 541,
     "metadata": {},
     "output_type": "execute_result"
    }
   ],
   "source": [
    "consume_df[rfm_features].describe()"
   ]
  },
  {
   "cell_type": "code",
   "execution_count": null,
   "metadata": {},
   "outputs": [],
   "source": []
  },
  {
   "cell_type": "code",
   "execution_count": null,
   "metadata": {},
   "outputs": [],
   "source": []
  },
  {
   "cell_type": "markdown",
   "metadata": {},
   "source": [
    "# RFM建模"
   ]
  },
  {
   "cell_type": "markdown",
   "metadata": {},
   "source": [
    "## 阈值计算：聚类 此处用二八法则代替"
   ]
  },
  {
   "cell_type": "code",
   "execution_count": 545,
   "metadata": {},
   "outputs": [],
   "source": [
    "M_threshold = consume_df['累计消费金额'].quantile(0.8)\n",
    "F_threshold=consume_df['累计消费次数'].quantile(0.8)\n",
    "R_threshold = consume_df['休眠天数'].quantile(0.2)"
   ]
  },
  {
   "cell_type": "code",
   "execution_count": 546,
   "metadata": {
    "collapsed": true,
    "jupyter": {
     "outputs_hidden": true
    }
   },
   "outputs": [
    {
     "name": "stderr",
     "output_type": "stream",
     "text": [
      "D:\\ProgramData\\Anaconda3\\lib\\site-packages\\ipykernel_launcher.py:1: SettingWithCopyWarning: \n",
      "A value is trying to be set on a copy of a slice from a DataFrame.\n",
      "Try using .loc[row_indexer,col_indexer] = value instead\n",
      "\n",
      "See the caveats in the documentation: https://pandas.pydata.org/pandas-docs/stable/user_guide/indexing.html#returning-a-view-versus-a-copy\n",
      "  \"\"\"Entry point for launching an IPython kernel.\n",
      "D:\\ProgramData\\Anaconda3\\lib\\site-packages\\ipykernel_launcher.py:2: SettingWithCopyWarning: \n",
      "A value is trying to be set on a copy of a slice from a DataFrame.\n",
      "Try using .loc[row_indexer,col_indexer] = value instead\n",
      "\n",
      "See the caveats in the documentation: https://pandas.pydata.org/pandas-docs/stable/user_guide/indexing.html#returning-a-view-versus-a-copy\n",
      "  \n",
      "D:\\ProgramData\\Anaconda3\\lib\\site-packages\\ipykernel_launcher.py:3: SettingWithCopyWarning: \n",
      "A value is trying to be set on a copy of a slice from a DataFrame.\n",
      "Try using .loc[row_indexer,col_indexer] = value instead\n",
      "\n",
      "See the caveats in the documentation: https://pandas.pydata.org/pandas-docs/stable/user_guide/indexing.html#returning-a-view-versus-a-copy\n",
      "  This is separate from the ipykernel package so we can avoid doing imports until\n"
     ]
    }
   ],
   "source": [
    "consume_df['R'] = consume_df['休眠天数'].map(lambda x:1 if x<R_threshold else 0)\n",
    "consume_df['F'] = consume_df['累计消费次数'].map(lambda x:1 if x>F_threshold else 0)\n",
    "consume_df['M'] = consume_df['累计消费金额'].map(lambda x:1 if x>M_threshold else 0)"
   ]
  },
  {
   "cell_type": "code",
   "execution_count": 551,
   "metadata": {},
   "outputs": [
    {
     "data": {
      "text/html": [
       "<div>\n",
       "<style scoped>\n",
       "    .dataframe tbody tr th:only-of-type {\n",
       "        vertical-align: middle;\n",
       "    }\n",
       "\n",
       "    .dataframe tbody tr th {\n",
       "        vertical-align: top;\n",
       "    }\n",
       "\n",
       "    .dataframe thead th {\n",
       "        text-align: right;\n",
       "    }\n",
       "</style>\n",
       "<table border=\"1\" class=\"dataframe\">\n",
       "  <thead>\n",
       "    <tr style=\"text-align: right;\">\n",
       "      <th></th>\n",
       "      <th>休眠天数</th>\n",
       "      <th>累计消费次数</th>\n",
       "      <th>累计消费金额</th>\n",
       "      <th>R</th>\n",
       "      <th>F</th>\n",
       "      <th>M</th>\n",
       "    </tr>\n",
       "    <tr>\n",
       "      <th>客户ID</th>\n",
       "      <th></th>\n",
       "      <th></th>\n",
       "      <th></th>\n",
       "      <th></th>\n",
       "      <th></th>\n",
       "      <th></th>\n",
       "    </tr>\n",
       "  </thead>\n",
       "  <tbody>\n",
       "    <tr>\n",
       "      <th>10015</th>\n",
       "      <td>345</td>\n",
       "      <td>5</td>\n",
       "      <td>10103</td>\n",
       "      <td>0</td>\n",
       "      <td>0</td>\n",
       "      <td>0</td>\n",
       "    </tr>\n",
       "    <tr>\n",
       "      <th>10030</th>\n",
       "      <td>106</td>\n",
       "      <td>8</td>\n",
       "      <td>27717</td>\n",
       "      <td>0</td>\n",
       "      <td>1</td>\n",
       "      <td>0</td>\n",
       "    </tr>\n",
       "    <tr>\n",
       "      <th>10045</th>\n",
       "      <td>29</td>\n",
       "      <td>7</td>\n",
       "      <td>20974</td>\n",
       "      <td>1</td>\n",
       "      <td>1</td>\n",
       "      <td>0</td>\n",
       "    </tr>\n",
       "    <tr>\n",
       "      <th>10060</th>\n",
       "      <td>1</td>\n",
       "      <td>7</td>\n",
       "      <td>50407</td>\n",
       "      <td>1</td>\n",
       "      <td>1</td>\n",
       "      <td>1</td>\n",
       "    </tr>\n",
       "    <tr>\n",
       "      <th>10075</th>\n",
       "      <td>3</td>\n",
       "      <td>7</td>\n",
       "      <td>29920</td>\n",
       "      <td>1</td>\n",
       "      <td>1</td>\n",
       "      <td>1</td>\n",
       "    </tr>\n",
       "  </tbody>\n",
       "</table>\n",
       "</div>"
      ],
      "text/plain": [
       "       休眠天数  累计消费次数  累计消费金额  R  F  M\n",
       "客户ID                                \n",
       "10015   345       5   10103  0  0  0\n",
       "10030   106       8   27717  0  1  0\n",
       "10045    29       7   20974  1  1  0\n",
       "10060     1       7   50407  1  1  1\n",
       "10075     3       7   29920  1  1  1"
      ]
     },
     "execution_count": 551,
     "metadata": {},
     "output_type": "execute_result"
    }
   ],
   "source": [
    "consume_df[['休眠天数','累计消费次数', '累计消费金额', 'R','F','M']].head()"
   ]
  },
  {
   "cell_type": "code",
   "execution_count": 552,
   "metadata": {},
   "outputs": [
    {
     "name": "stderr",
     "output_type": "stream",
     "text": [
      "D:\\ProgramData\\Anaconda3\\lib\\site-packages\\ipykernel_launcher.py:1: SettingWithCopyWarning: \n",
      "A value is trying to be set on a copy of a slice from a DataFrame.\n",
      "Try using .loc[row_indexer,col_indexer] = value instead\n",
      "\n",
      "See the caveats in the documentation: https://pandas.pydata.org/pandas-docs/stable/user_guide/indexing.html#returning-a-view-versus-a-copy\n",
      "  \"\"\"Entry point for launching an IPython kernel.\n",
      "D:\\ProgramData\\Anaconda3\\lib\\site-packages\\ipykernel_launcher.py:13: SettingWithCopyWarning: \n",
      "A value is trying to be set on a copy of a slice from a DataFrame.\n",
      "Try using .loc[row_indexer,col_indexer] = value instead\n",
      "\n",
      "See the caveats in the documentation: https://pandas.pydata.org/pandas-docs/stable/user_guide/indexing.html#returning-a-view-versus-a-copy\n",
      "  del sys.path[0]\n"
     ]
    }
   ],
   "source": [
    "consume_df['RFM'] = consume_df['R'].apply(str)+'-' + consume_df['F'].apply(str)+'-'+ consume_df['M'].apply(str)\n",
    "\n",
    "rfm_dict = {\n",
    "    '1-1-1':'重要价值用户',\n",
    "    '1-0-1':'重要发展用户',\n",
    "    '0-1-1':'重要保持用户',\n",
    "    '0-0-1':'重要挽留用户',\n",
    "    '1-1-0':'一般价值用户',\n",
    "    '1-0-0':'一般发展用户',\n",
    "    '0-1-0':'一般保持用户',\n",
    "    '0-0-0':'一般挽留用户'\n",
    "}\n",
    "consume_df['RFM人群'] = consume_df['RFM'].map(lambda x:rfm_dict[x])"
   ]
  },
  {
   "cell_type": "code",
   "execution_count": 554,
   "metadata": {},
   "outputs": [
    {
     "data": {
      "text/html": [
       "<div>\n",
       "<style scoped>\n",
       "    .dataframe tbody tr th:only-of-type {\n",
       "        vertical-align: middle;\n",
       "    }\n",
       "\n",
       "    .dataframe tbody tr th {\n",
       "        vertical-align: top;\n",
       "    }\n",
       "\n",
       "    .dataframe thead th {\n",
       "        text-align: right;\n",
       "    }\n",
       "</style>\n",
       "<table border=\"1\" class=\"dataframe\">\n",
       "  <thead>\n",
       "    <tr style=\"text-align: right;\">\n",
       "      <th></th>\n",
       "      <th>R</th>\n",
       "      <th>F</th>\n",
       "      <th>M</th>\n",
       "      <th>RFM人群</th>\n",
       "    </tr>\n",
       "    <tr>\n",
       "      <th>客户ID</th>\n",
       "      <th></th>\n",
       "      <th></th>\n",
       "      <th></th>\n",
       "      <th></th>\n",
       "    </tr>\n",
       "  </thead>\n",
       "  <tbody>\n",
       "    <tr>\n",
       "      <th>10015</th>\n",
       "      <td>0</td>\n",
       "      <td>0</td>\n",
       "      <td>0</td>\n",
       "      <td>一般挽留用户</td>\n",
       "    </tr>\n",
       "    <tr>\n",
       "      <th>10030</th>\n",
       "      <td>0</td>\n",
       "      <td>1</td>\n",
       "      <td>0</td>\n",
       "      <td>一般保持用户</td>\n",
       "    </tr>\n",
       "    <tr>\n",
       "      <th>10045</th>\n",
       "      <td>1</td>\n",
       "      <td>1</td>\n",
       "      <td>0</td>\n",
       "      <td>一般价值用户</td>\n",
       "    </tr>\n",
       "    <tr>\n",
       "      <th>10060</th>\n",
       "      <td>1</td>\n",
       "      <td>1</td>\n",
       "      <td>1</td>\n",
       "      <td>重要价值用户</td>\n",
       "    </tr>\n",
       "    <tr>\n",
       "      <th>10075</th>\n",
       "      <td>1</td>\n",
       "      <td>1</td>\n",
       "      <td>1</td>\n",
       "      <td>重要价值用户</td>\n",
       "    </tr>\n",
       "  </tbody>\n",
       "</table>\n",
       "</div>"
      ],
      "text/plain": [
       "       R  F  M   RFM人群\n",
       "客户ID                  \n",
       "10015  0  0  0  一般挽留用户\n",
       "10030  0  1  0  一般保持用户\n",
       "10045  1  1  0  一般价值用户\n",
       "10060  1  1  1  重要价值用户\n",
       "10075  1  1  1  重要价值用户"
      ]
     },
     "execution_count": 554,
     "metadata": {},
     "output_type": "execute_result"
    }
   ],
   "source": [
    "consume_df[[ 'R','F','M','RFM人群']].head()"
   ]
  },
  {
   "cell_type": "markdown",
   "metadata": {},
   "source": [
    "# 统计分析"
   ]
  },
  {
   "cell_type": "markdown",
   "metadata": {},
   "source": [
    "## 人数占比"
   ]
  },
  {
   "cell_type": "code",
   "execution_count": 556,
   "metadata": {},
   "outputs": [],
   "source": [
    "rfm_analysis = pd.DataFrame(consume_df['RFM人群'].value_counts()).rename(columns={'RFM人群':'人数'})\n",
    "rfm_analysis['人群占比'] = (rfm_analysis['人数']/rfm_analysis['人数'].sum()).map(lambda x:'%.2f%%'%(x*100))"
   ]
  },
  {
   "cell_type": "code",
   "execution_count": 557,
   "metadata": {},
   "outputs": [
    {
     "data": {
      "text/html": [
       "<div>\n",
       "<style scoped>\n",
       "    .dataframe tbody tr th:only-of-type {\n",
       "        vertical-align: middle;\n",
       "    }\n",
       "\n",
       "    .dataframe tbody tr th {\n",
       "        vertical-align: top;\n",
       "    }\n",
       "\n",
       "    .dataframe thead th {\n",
       "        text-align: right;\n",
       "    }\n",
       "</style>\n",
       "<table border=\"1\" class=\"dataframe\">\n",
       "  <thead>\n",
       "    <tr style=\"text-align: right;\">\n",
       "      <th></th>\n",
       "      <th>人数</th>\n",
       "      <th>人群占比</th>\n",
       "    </tr>\n",
       "  </thead>\n",
       "  <tbody>\n",
       "    <tr>\n",
       "      <th>一般挽留用户</th>\n",
       "      <td>427</td>\n",
       "      <td>60.14%</td>\n",
       "    </tr>\n",
       "    <tr>\n",
       "      <th>一般发展用户</th>\n",
       "      <td>94</td>\n",
       "      <td>13.24%</td>\n",
       "    </tr>\n",
       "    <tr>\n",
       "      <th>重要挽留用户</th>\n",
       "      <td>80</td>\n",
       "      <td>11.27%</td>\n",
       "    </tr>\n",
       "    <tr>\n",
       "      <th>一般保持用户</th>\n",
       "      <td>39</td>\n",
       "      <td>5.49%</td>\n",
       "    </tr>\n",
       "    <tr>\n",
       "      <th>重要发展用户</th>\n",
       "      <td>24</td>\n",
       "      <td>3.38%</td>\n",
       "    </tr>\n",
       "    <tr>\n",
       "      <th>重要保持用户</th>\n",
       "      <td>22</td>\n",
       "      <td>3.10%</td>\n",
       "    </tr>\n",
       "    <tr>\n",
       "      <th>重要价值用户</th>\n",
       "      <td>16</td>\n",
       "      <td>2.25%</td>\n",
       "    </tr>\n",
       "    <tr>\n",
       "      <th>一般价值用户</th>\n",
       "      <td>8</td>\n",
       "      <td>1.13%</td>\n",
       "    </tr>\n",
       "  </tbody>\n",
       "</table>\n",
       "</div>"
      ],
      "text/plain": [
       "         人数    人群占比\n",
       "一般挽留用户  427  60.14%\n",
       "一般发展用户   94  13.24%\n",
       "重要挽留用户   80  11.27%\n",
       "一般保持用户   39   5.49%\n",
       "重要发展用户   24   3.38%\n",
       "重要保持用户   22   3.10%\n",
       "重要价值用户   16   2.25%\n",
       "一般价值用户    8   1.13%"
      ]
     },
     "execution_count": 557,
     "metadata": {},
     "output_type": "execute_result"
    }
   ],
   "source": [
    "rfm_analysis"
   ]
  },
  {
   "cell_type": "markdown",
   "metadata": {},
   "source": [
    "## 透视表"
   ]
  },
  {
   "cell_type": "code",
   "execution_count": 558,
   "metadata": {},
   "outputs": [
    {
     "data": {
      "text/html": [
       "<div>\n",
       "<style scoped>\n",
       "    .dataframe tbody tr th:only-of-type {\n",
       "        vertical-align: middle;\n",
       "    }\n",
       "\n",
       "    .dataframe tbody tr th {\n",
       "        vertical-align: top;\n",
       "    }\n",
       "\n",
       "    .dataframe thead th {\n",
       "        text-align: right;\n",
       "    }\n",
       "</style>\n",
       "<table border=\"1\" class=\"dataframe\">\n",
       "  <thead>\n",
       "    <tr style=\"text-align: right;\">\n",
       "      <th>客单价区间</th>\n",
       "      <th>(115.834, 4772.3]</th>\n",
       "      <th>(4772.3, 9405.6]</th>\n",
       "      <th>(9405.6, 14038.9]</th>\n",
       "      <th>(14038.9, 18672.2]</th>\n",
       "      <th>(18672.2, 23305.5]</th>\n",
       "      <th>All</th>\n",
       "    </tr>\n",
       "    <tr>\n",
       "      <th>RFM人群</th>\n",
       "      <th></th>\n",
       "      <th></th>\n",
       "      <th></th>\n",
       "      <th></th>\n",
       "      <th></th>\n",
       "      <th></th>\n",
       "    </tr>\n",
       "  </thead>\n",
       "  <tbody>\n",
       "    <tr>\n",
       "      <th>All</th>\n",
       "      <td>468</td>\n",
       "      <td>205</td>\n",
       "      <td>27</td>\n",
       "      <td>8</td>\n",
       "      <td>2</td>\n",
       "      <td>710</td>\n",
       "    </tr>\n",
       "    <tr>\n",
       "      <th>一般挽留用户</th>\n",
       "      <td>331</td>\n",
       "      <td>85</td>\n",
       "      <td>8</td>\n",
       "      <td>3</td>\n",
       "      <td>0</td>\n",
       "      <td>427</td>\n",
       "    </tr>\n",
       "    <tr>\n",
       "      <th>一般发展用户</th>\n",
       "      <td>74</td>\n",
       "      <td>19</td>\n",
       "      <td>0</td>\n",
       "      <td>0</td>\n",
       "      <td>1</td>\n",
       "      <td>94</td>\n",
       "    </tr>\n",
       "    <tr>\n",
       "      <th>重要挽留用户</th>\n",
       "      <td>1</td>\n",
       "      <td>59</td>\n",
       "      <td>15</td>\n",
       "      <td>5</td>\n",
       "      <td>0</td>\n",
       "      <td>80</td>\n",
       "    </tr>\n",
       "    <tr>\n",
       "      <th>一般保持用户</th>\n",
       "      <td>39</td>\n",
       "      <td>0</td>\n",
       "      <td>0</td>\n",
       "      <td>0</td>\n",
       "      <td>0</td>\n",
       "      <td>39</td>\n",
       "    </tr>\n",
       "    <tr>\n",
       "      <th>重要发展用户</th>\n",
       "      <td>0</td>\n",
       "      <td>19</td>\n",
       "      <td>4</td>\n",
       "      <td>0</td>\n",
       "      <td>1</td>\n",
       "      <td>24</td>\n",
       "    </tr>\n",
       "    <tr>\n",
       "      <th>重要保持用户</th>\n",
       "      <td>8</td>\n",
       "      <td>14</td>\n",
       "      <td>0</td>\n",
       "      <td>0</td>\n",
       "      <td>0</td>\n",
       "      <td>22</td>\n",
       "    </tr>\n",
       "    <tr>\n",
       "      <th>重要价值用户</th>\n",
       "      <td>7</td>\n",
       "      <td>9</td>\n",
       "      <td>0</td>\n",
       "      <td>0</td>\n",
       "      <td>0</td>\n",
       "      <td>16</td>\n",
       "    </tr>\n",
       "    <tr>\n",
       "      <th>一般价值用户</th>\n",
       "      <td>8</td>\n",
       "      <td>0</td>\n",
       "      <td>0</td>\n",
       "      <td>0</td>\n",
       "      <td>0</td>\n",
       "      <td>8</td>\n",
       "    </tr>\n",
       "  </tbody>\n",
       "</table>\n",
       "</div>"
      ],
      "text/plain": [
       "客单价区间   (115.834, 4772.3]  (4772.3, 9405.6]  (9405.6, 14038.9]  \\\n",
       "RFM人群                                                            \n",
       "All                   468               205                 27   \n",
       "一般挽留用户                331                85                  8   \n",
       "一般发展用户                 74                19                  0   \n",
       "重要挽留用户                  1                59                 15   \n",
       "一般保持用户                 39                 0                  0   \n",
       "重要发展用户                  0                19                  4   \n",
       "重要保持用户                  8                14                  0   \n",
       "重要价值用户                  7                 9                  0   \n",
       "一般价值用户                  8                 0                  0   \n",
       "\n",
       "客单价区间   (14038.9, 18672.2]  (18672.2, 23305.5]  All  \n",
       "RFM人群                                                \n",
       "All                      8                   2  710  \n",
       "一般挽留用户                   3                   0  427  \n",
       "一般发展用户                   0                   1   94  \n",
       "重要挽留用户                   5                   0   80  \n",
       "一般保持用户                   0                   0   39  \n",
       "重要发展用户                   0                   1   24  \n",
       "重要保持用户                   0                   0   22  \n",
       "重要价值用户                   0                   0   16  \n",
       "一般价值用户                   0                   0    8  "
      ]
     },
     "execution_count": 558,
     "metadata": {},
     "output_type": "execute_result"
    }
   ],
   "source": [
    "pd.pivot_table(consume_df.reset_index(),    # DataFrame\n",
    "        values='客户ID',    # 值\n",
    "        index='RFM人群',    # 分类汇总依据\n",
    "        columns='客单价区间',    # 列\n",
    "        aggfunc=pd.Series.nunique,    # 聚合函数\n",
    "        fill_value=0,    # 对缺失值的填充\n",
    "        margins=True,    # 是否启用总计行/列\n",
    "        dropna=False,    # 删除缺失\n",
    "        margins_name='All'   # 总计行/列的名称\n",
    "       ).sort_values(by='All',ascending=False)"
   ]
  },
  {
   "cell_type": "code",
   "execution_count": 424,
   "metadata": {},
   "outputs": [],
   "source": [
    "pivot_result = pd.pivot_table(consume_df.reset_index(),    # DataFrame\n",
    "        values='客户ID',    # 值\n",
    "        index='RFM人群',    # 分类汇总依据\n",
    "        columns='客单价区间',    # 列\n",
    "        aggfunc=pd.Series.nunique,    # 聚合函数\n",
    "        fill_value=0,    # 对缺失值的填充\n",
    "        margins=True,    # 是否启用总计行/列\n",
    "        dropna=False,    # 删除缺失\n",
    "        margins_name='All'   # 总计行/列的名称\n",
    "       ).sort_values(by='All',ascending=False)"
   ]
  },
  {
   "cell_type": "markdown",
   "metadata": {},
   "source": [
    "## 逆透视"
   ]
  },
  {
   "cell_type": "code",
   "execution_count": 455,
   "metadata": {},
   "outputs": [],
   "source": [
    "pivot_table = pivot_result.reset_index().drop('All',axis=1)\n",
    "pivot_table.columns = ['RFM人群','(124.359, 3871.2]', '(3871.2, 7599.4]', '(7599.4, 11327.6]', '(11327.6, 15055.8]', '(15055.8, 18784.0]']"
   ]
  },
  {
   "cell_type": "code",
   "execution_count": 456,
   "metadata": {},
   "outputs": [
    {
     "data": {
      "text/html": [
       "<div>\n",
       "<style scoped>\n",
       "    .dataframe tbody tr th:only-of-type {\n",
       "        vertical-align: middle;\n",
       "    }\n",
       "\n",
       "    .dataframe tbody tr th {\n",
       "        vertical-align: top;\n",
       "    }\n",
       "\n",
       "    .dataframe thead th {\n",
       "        text-align: right;\n",
       "    }\n",
       "</style>\n",
       "<table border=\"1\" class=\"dataframe\">\n",
       "  <thead>\n",
       "    <tr style=\"text-align: right;\">\n",
       "      <th></th>\n",
       "      <th>RFM人群</th>\n",
       "      <th>(124.359, 3871.2]</th>\n",
       "      <th>(3871.2, 7599.4]</th>\n",
       "      <th>(7599.4, 11327.6]</th>\n",
       "      <th>(11327.6, 15055.8]</th>\n",
       "      <th>(15055.8, 18784.0]</th>\n",
       "    </tr>\n",
       "  </thead>\n",
       "  <tbody>\n",
       "    <tr>\n",
       "      <th>0</th>\n",
       "      <td>All</td>\n",
       "      <td>211.0</td>\n",
       "      <td>108.0</td>\n",
       "      <td>27.0</td>\n",
       "      <td>8.0</td>\n",
       "      <td>5.0</td>\n",
       "    </tr>\n",
       "    <tr>\n",
       "      <th>1</th>\n",
       "      <td>一般挽留用户</td>\n",
       "      <td>137.0</td>\n",
       "      <td>50.0</td>\n",
       "      <td>8.0</td>\n",
       "      <td>2.0</td>\n",
       "      <td>2.0</td>\n",
       "    </tr>\n",
       "    <tr>\n",
       "      <th>2</th>\n",
       "      <td>一般发展用户</td>\n",
       "      <td>33.0</td>\n",
       "      <td>13.0</td>\n",
       "      <td>NaN</td>\n",
       "      <td>NaN</td>\n",
       "      <td>1.0</td>\n",
       "    </tr>\n",
       "    <tr>\n",
       "      <th>3</th>\n",
       "      <td>重要挽留用户</td>\n",
       "      <td>NaN</td>\n",
       "      <td>10.0</td>\n",
       "      <td>17.0</td>\n",
       "      <td>5.0</td>\n",
       "      <td>2.0</td>\n",
       "    </tr>\n",
       "    <tr>\n",
       "      <th>4</th>\n",
       "      <td>一般保持用户</td>\n",
       "      <td>30.0</td>\n",
       "      <td>2.0</td>\n",
       "      <td>NaN</td>\n",
       "      <td>NaN</td>\n",
       "      <td>NaN</td>\n",
       "    </tr>\n",
       "    <tr>\n",
       "      <th>5</th>\n",
       "      <td>重要保持用户</td>\n",
       "      <td>2.0</td>\n",
       "      <td>20.0</td>\n",
       "      <td>NaN</td>\n",
       "      <td>NaN</td>\n",
       "      <td>NaN</td>\n",
       "    </tr>\n",
       "    <tr>\n",
       "      <th>6</th>\n",
       "      <td>一般价值用户</td>\n",
       "      <td>9.0</td>\n",
       "      <td>NaN</td>\n",
       "      <td>NaN</td>\n",
       "      <td>NaN</td>\n",
       "      <td>NaN</td>\n",
       "    </tr>\n",
       "    <tr>\n",
       "      <th>7</th>\n",
       "      <td>重要价值用户</td>\n",
       "      <td>NaN</td>\n",
       "      <td>9.0</td>\n",
       "      <td>NaN</td>\n",
       "      <td>NaN</td>\n",
       "      <td>NaN</td>\n",
       "    </tr>\n",
       "    <tr>\n",
       "      <th>8</th>\n",
       "      <td>重要发展用户</td>\n",
       "      <td>NaN</td>\n",
       "      <td>4.0</td>\n",
       "      <td>2.0</td>\n",
       "      <td>1.0</td>\n",
       "      <td>NaN</td>\n",
       "    </tr>\n",
       "  </tbody>\n",
       "</table>\n",
       "</div>"
      ],
      "text/plain": [
       "    RFM人群  (124.359, 3871.2]  (3871.2, 7599.4]  (7599.4, 11327.6]  \\\n",
       "0     All              211.0             108.0               27.0   \n",
       "1  一般挽留用户              137.0              50.0                8.0   \n",
       "2  一般发展用户               33.0              13.0                NaN   \n",
       "3  重要挽留用户                NaN              10.0               17.0   \n",
       "4  一般保持用户               30.0               2.0                NaN   \n",
       "5  重要保持用户                2.0              20.0                NaN   \n",
       "6  一般价值用户                9.0               NaN                NaN   \n",
       "7  重要价值用户                NaN               9.0                NaN   \n",
       "8  重要发展用户                NaN               4.0                2.0   \n",
       "\n",
       "   (11327.6, 15055.8]  (15055.8, 18784.0]  \n",
       "0                 8.0                 5.0  \n",
       "1                 2.0                 2.0  \n",
       "2                 NaN                 1.0  \n",
       "3                 5.0                 2.0  \n",
       "4                 NaN                 NaN  \n",
       "5                 NaN                 NaN  \n",
       "6                 NaN                 NaN  \n",
       "7                 NaN                 NaN  \n",
       "8                 1.0                 NaN  "
      ]
     },
     "execution_count": 456,
     "metadata": {},
     "output_type": "execute_result"
    }
   ],
   "source": [
    "pivot_table"
   ]
  },
  {
   "cell_type": "code",
   "execution_count": 559,
   "metadata": {
    "collapsed": true,
    "jupyter": {
     "outputs_hidden": true
    }
   },
   "outputs": [
    {
     "data": {
      "text/html": [
       "<div>\n",
       "<style scoped>\n",
       "    .dataframe tbody tr th:only-of-type {\n",
       "        vertical-align: middle;\n",
       "    }\n",
       "\n",
       "    .dataframe tbody tr th {\n",
       "        vertical-align: top;\n",
       "    }\n",
       "\n",
       "    .dataframe thead th {\n",
       "        text-align: right;\n",
       "    }\n",
       "</style>\n",
       "<table border=\"1\" class=\"dataframe\">\n",
       "  <thead>\n",
       "    <tr style=\"text-align: right;\">\n",
       "      <th></th>\n",
       "      <th>RFM人群</th>\n",
       "      <th>variable</th>\n",
       "      <th>value</th>\n",
       "    </tr>\n",
       "  </thead>\n",
       "  <tbody>\n",
       "    <tr>\n",
       "      <th>21</th>\n",
       "      <td>重要挽留用户</td>\n",
       "      <td>(7599.4, 11327.6]</td>\n",
       "      <td>17.0</td>\n",
       "    </tr>\n",
       "    <tr>\n",
       "      <th>12</th>\n",
       "      <td>重要挽留用户</td>\n",
       "      <td>(3871.2, 7599.4]</td>\n",
       "      <td>10.0</td>\n",
       "    </tr>\n",
       "    <tr>\n",
       "      <th>39</th>\n",
       "      <td>重要挽留用户</td>\n",
       "      <td>(15055.8, 18784.0]</td>\n",
       "      <td>2.0</td>\n",
       "    </tr>\n",
       "    <tr>\n",
       "      <th>3</th>\n",
       "      <td>重要挽留用户</td>\n",
       "      <td>(124.359, 3871.2]</td>\n",
       "      <td>0.0</td>\n",
       "    </tr>\n",
       "    <tr>\n",
       "      <th>30</th>\n",
       "      <td>重要挽留用户</td>\n",
       "      <td>(11327.6, 15055.8]</td>\n",
       "      <td>5.0</td>\n",
       "    </tr>\n",
       "    <tr>\n",
       "      <th>26</th>\n",
       "      <td>重要发展用户</td>\n",
       "      <td>(7599.4, 11327.6]</td>\n",
       "      <td>2.0</td>\n",
       "    </tr>\n",
       "    <tr>\n",
       "      <th>17</th>\n",
       "      <td>重要发展用户</td>\n",
       "      <td>(3871.2, 7599.4]</td>\n",
       "      <td>4.0</td>\n",
       "    </tr>\n",
       "    <tr>\n",
       "      <th>44</th>\n",
       "      <td>重要发展用户</td>\n",
       "      <td>(15055.8, 18784.0]</td>\n",
       "      <td>0.0</td>\n",
       "    </tr>\n",
       "    <tr>\n",
       "      <th>8</th>\n",
       "      <td>重要发展用户</td>\n",
       "      <td>(124.359, 3871.2]</td>\n",
       "      <td>0.0</td>\n",
       "    </tr>\n",
       "    <tr>\n",
       "      <th>35</th>\n",
       "      <td>重要发展用户</td>\n",
       "      <td>(11327.6, 15055.8]</td>\n",
       "      <td>1.0</td>\n",
       "    </tr>\n",
       "    <tr>\n",
       "      <th>23</th>\n",
       "      <td>重要保持用户</td>\n",
       "      <td>(7599.4, 11327.6]</td>\n",
       "      <td>0.0</td>\n",
       "    </tr>\n",
       "    <tr>\n",
       "      <th>14</th>\n",
       "      <td>重要保持用户</td>\n",
       "      <td>(3871.2, 7599.4]</td>\n",
       "      <td>20.0</td>\n",
       "    </tr>\n",
       "    <tr>\n",
       "      <th>41</th>\n",
       "      <td>重要保持用户</td>\n",
       "      <td>(15055.8, 18784.0]</td>\n",
       "      <td>0.0</td>\n",
       "    </tr>\n",
       "    <tr>\n",
       "      <th>5</th>\n",
       "      <td>重要保持用户</td>\n",
       "      <td>(124.359, 3871.2]</td>\n",
       "      <td>2.0</td>\n",
       "    </tr>\n",
       "    <tr>\n",
       "      <th>32</th>\n",
       "      <td>重要保持用户</td>\n",
       "      <td>(11327.6, 15055.8]</td>\n",
       "      <td>0.0</td>\n",
       "    </tr>\n",
       "    <tr>\n",
       "      <th>25</th>\n",
       "      <td>重要价值用户</td>\n",
       "      <td>(7599.4, 11327.6]</td>\n",
       "      <td>0.0</td>\n",
       "    </tr>\n",
       "    <tr>\n",
       "      <th>16</th>\n",
       "      <td>重要价值用户</td>\n",
       "      <td>(3871.2, 7599.4]</td>\n",
       "      <td>9.0</td>\n",
       "    </tr>\n",
       "    <tr>\n",
       "      <th>43</th>\n",
       "      <td>重要价值用户</td>\n",
       "      <td>(15055.8, 18784.0]</td>\n",
       "      <td>0.0</td>\n",
       "    </tr>\n",
       "    <tr>\n",
       "      <th>7</th>\n",
       "      <td>重要价值用户</td>\n",
       "      <td>(124.359, 3871.2]</td>\n",
       "      <td>0.0</td>\n",
       "    </tr>\n",
       "    <tr>\n",
       "      <th>34</th>\n",
       "      <td>重要价值用户</td>\n",
       "      <td>(11327.6, 15055.8]</td>\n",
       "      <td>0.0</td>\n",
       "    </tr>\n",
       "    <tr>\n",
       "      <th>19</th>\n",
       "      <td>一般挽留用户</td>\n",
       "      <td>(7599.4, 11327.6]</td>\n",
       "      <td>8.0</td>\n",
       "    </tr>\n",
       "    <tr>\n",
       "      <th>10</th>\n",
       "      <td>一般挽留用户</td>\n",
       "      <td>(3871.2, 7599.4]</td>\n",
       "      <td>50.0</td>\n",
       "    </tr>\n",
       "    <tr>\n",
       "      <th>37</th>\n",
       "      <td>一般挽留用户</td>\n",
       "      <td>(15055.8, 18784.0]</td>\n",
       "      <td>2.0</td>\n",
       "    </tr>\n",
       "    <tr>\n",
       "      <th>1</th>\n",
       "      <td>一般挽留用户</td>\n",
       "      <td>(124.359, 3871.2]</td>\n",
       "      <td>137.0</td>\n",
       "    </tr>\n",
       "    <tr>\n",
       "      <th>28</th>\n",
       "      <td>一般挽留用户</td>\n",
       "      <td>(11327.6, 15055.8]</td>\n",
       "      <td>2.0</td>\n",
       "    </tr>\n",
       "    <tr>\n",
       "      <th>20</th>\n",
       "      <td>一般发展用户</td>\n",
       "      <td>(7599.4, 11327.6]</td>\n",
       "      <td>0.0</td>\n",
       "    </tr>\n",
       "    <tr>\n",
       "      <th>11</th>\n",
       "      <td>一般发展用户</td>\n",
       "      <td>(3871.2, 7599.4]</td>\n",
       "      <td>13.0</td>\n",
       "    </tr>\n",
       "    <tr>\n",
       "      <th>38</th>\n",
       "      <td>一般发展用户</td>\n",
       "      <td>(15055.8, 18784.0]</td>\n",
       "      <td>1.0</td>\n",
       "    </tr>\n",
       "    <tr>\n",
       "      <th>2</th>\n",
       "      <td>一般发展用户</td>\n",
       "      <td>(124.359, 3871.2]</td>\n",
       "      <td>33.0</td>\n",
       "    </tr>\n",
       "    <tr>\n",
       "      <th>29</th>\n",
       "      <td>一般发展用户</td>\n",
       "      <td>(11327.6, 15055.8]</td>\n",
       "      <td>0.0</td>\n",
       "    </tr>\n",
       "    <tr>\n",
       "      <th>22</th>\n",
       "      <td>一般保持用户</td>\n",
       "      <td>(7599.4, 11327.6]</td>\n",
       "      <td>0.0</td>\n",
       "    </tr>\n",
       "    <tr>\n",
       "      <th>13</th>\n",
       "      <td>一般保持用户</td>\n",
       "      <td>(3871.2, 7599.4]</td>\n",
       "      <td>2.0</td>\n",
       "    </tr>\n",
       "    <tr>\n",
       "      <th>40</th>\n",
       "      <td>一般保持用户</td>\n",
       "      <td>(15055.8, 18784.0]</td>\n",
       "      <td>0.0</td>\n",
       "    </tr>\n",
       "    <tr>\n",
       "      <th>4</th>\n",
       "      <td>一般保持用户</td>\n",
       "      <td>(124.359, 3871.2]</td>\n",
       "      <td>30.0</td>\n",
       "    </tr>\n",
       "    <tr>\n",
       "      <th>31</th>\n",
       "      <td>一般保持用户</td>\n",
       "      <td>(11327.6, 15055.8]</td>\n",
       "      <td>0.0</td>\n",
       "    </tr>\n",
       "    <tr>\n",
       "      <th>24</th>\n",
       "      <td>一般价值用户</td>\n",
       "      <td>(7599.4, 11327.6]</td>\n",
       "      <td>0.0</td>\n",
       "    </tr>\n",
       "    <tr>\n",
       "      <th>15</th>\n",
       "      <td>一般价值用户</td>\n",
       "      <td>(3871.2, 7599.4]</td>\n",
       "      <td>0.0</td>\n",
       "    </tr>\n",
       "    <tr>\n",
       "      <th>42</th>\n",
       "      <td>一般价值用户</td>\n",
       "      <td>(15055.8, 18784.0]</td>\n",
       "      <td>0.0</td>\n",
       "    </tr>\n",
       "    <tr>\n",
       "      <th>6</th>\n",
       "      <td>一般价值用户</td>\n",
       "      <td>(124.359, 3871.2]</td>\n",
       "      <td>9.0</td>\n",
       "    </tr>\n",
       "    <tr>\n",
       "      <th>33</th>\n",
       "      <td>一般价值用户</td>\n",
       "      <td>(11327.6, 15055.8]</td>\n",
       "      <td>0.0</td>\n",
       "    </tr>\n",
       "    <tr>\n",
       "      <th>18</th>\n",
       "      <td>All</td>\n",
       "      <td>(7599.4, 11327.6]</td>\n",
       "      <td>27.0</td>\n",
       "    </tr>\n",
       "    <tr>\n",
       "      <th>9</th>\n",
       "      <td>All</td>\n",
       "      <td>(3871.2, 7599.4]</td>\n",
       "      <td>108.0</td>\n",
       "    </tr>\n",
       "    <tr>\n",
       "      <th>36</th>\n",
       "      <td>All</td>\n",
       "      <td>(15055.8, 18784.0]</td>\n",
       "      <td>5.0</td>\n",
       "    </tr>\n",
       "    <tr>\n",
       "      <th>0</th>\n",
       "      <td>All</td>\n",
       "      <td>(124.359, 3871.2]</td>\n",
       "      <td>211.0</td>\n",
       "    </tr>\n",
       "    <tr>\n",
       "      <th>27</th>\n",
       "      <td>All</td>\n",
       "      <td>(11327.6, 15055.8]</td>\n",
       "      <td>8.0</td>\n",
       "    </tr>\n",
       "  </tbody>\n",
       "</table>\n",
       "</div>"
      ],
      "text/plain": [
       "     RFM人群            variable  value\n",
       "21  重要挽留用户   (7599.4, 11327.6]   17.0\n",
       "12  重要挽留用户    (3871.2, 7599.4]   10.0\n",
       "39  重要挽留用户  (15055.8, 18784.0]    2.0\n",
       "3   重要挽留用户   (124.359, 3871.2]    0.0\n",
       "30  重要挽留用户  (11327.6, 15055.8]    5.0\n",
       "26  重要发展用户   (7599.4, 11327.6]    2.0\n",
       "17  重要发展用户    (3871.2, 7599.4]    4.0\n",
       "44  重要发展用户  (15055.8, 18784.0]    0.0\n",
       "8   重要发展用户   (124.359, 3871.2]    0.0\n",
       "35  重要发展用户  (11327.6, 15055.8]    1.0\n",
       "23  重要保持用户   (7599.4, 11327.6]    0.0\n",
       "14  重要保持用户    (3871.2, 7599.4]   20.0\n",
       "41  重要保持用户  (15055.8, 18784.0]    0.0\n",
       "5   重要保持用户   (124.359, 3871.2]    2.0\n",
       "32  重要保持用户  (11327.6, 15055.8]    0.0\n",
       "25  重要价值用户   (7599.4, 11327.6]    0.0\n",
       "16  重要价值用户    (3871.2, 7599.4]    9.0\n",
       "43  重要价值用户  (15055.8, 18784.0]    0.0\n",
       "7   重要价值用户   (124.359, 3871.2]    0.0\n",
       "34  重要价值用户  (11327.6, 15055.8]    0.0\n",
       "19  一般挽留用户   (7599.4, 11327.6]    8.0\n",
       "10  一般挽留用户    (3871.2, 7599.4]   50.0\n",
       "37  一般挽留用户  (15055.8, 18784.0]    2.0\n",
       "1   一般挽留用户   (124.359, 3871.2]  137.0\n",
       "28  一般挽留用户  (11327.6, 15055.8]    2.0\n",
       "20  一般发展用户   (7599.4, 11327.6]    0.0\n",
       "11  一般发展用户    (3871.2, 7599.4]   13.0\n",
       "38  一般发展用户  (15055.8, 18784.0]    1.0\n",
       "2   一般发展用户   (124.359, 3871.2]   33.0\n",
       "29  一般发展用户  (11327.6, 15055.8]    0.0\n",
       "22  一般保持用户   (7599.4, 11327.6]    0.0\n",
       "13  一般保持用户    (3871.2, 7599.4]    2.0\n",
       "40  一般保持用户  (15055.8, 18784.0]    0.0\n",
       "4   一般保持用户   (124.359, 3871.2]   30.0\n",
       "31  一般保持用户  (11327.6, 15055.8]    0.0\n",
       "24  一般价值用户   (7599.4, 11327.6]    0.0\n",
       "15  一般价值用户    (3871.2, 7599.4]    0.0\n",
       "42  一般价值用户  (15055.8, 18784.0]    0.0\n",
       "6   一般价值用户   (124.359, 3871.2]    9.0\n",
       "33  一般价值用户  (11327.6, 15055.8]    0.0\n",
       "18     All   (7599.4, 11327.6]   27.0\n",
       "9      All    (3871.2, 7599.4]  108.0\n",
       "36     All  (15055.8, 18784.0]    5.0\n",
       "0      All   (124.359, 3871.2]  211.0\n",
       "27     All  (11327.6, 15055.8]    8.0"
      ]
     },
     "execution_count": 559,
     "metadata": {},
     "output_type": "execute_result"
    }
   ],
   "source": [
    "pivot_table.melt(id_vars='RFM人群',\n",
    "                 value_vars=['(124.359, 3871.2]', '(3871.2, 7599.4]',\n",
    "                             '(7599.4, 11327.6]', '(11327.6, 15055.8]',\n",
    "                             '(15055.8, 18784.0]']).sort_values(by=['RFM人群','variable'],ascending=False).fillna(0)"
   ]
  }
 ],
 "metadata": {
  "interpreter": {
   "hash": "aee8b7b246df8f9039afb4144a1f6fd8d2ca17a180786b69acc140d282b71a49"
  },
  "kernelspec": {
   "display_name": "Python 3.10.4 64-bit",
   "language": "python",
   "name": "python3"
  },
  "language_info": {
   "codemirror_mode": {
    "name": "ipython",
    "version": 3
   },
   "file_extension": ".py",
   "mimetype": "text/x-python",
   "name": "python",
   "nbconvert_exporter": "python",
   "pygments_lexer": "ipython3",
   "version": "3.10.4"
  }
 },
 "nbformat": 4,
 "nbformat_minor": 4
}
