{
 "cells": [
  {
   "cell_type": "markdown",
   "metadata": {},
   "source": [
    "### Kaggle泰坦尼克号分析\n",
    "    https://zhuanlan.zhihu.com/p/342552186 \n",
    "- 数据的基本统计分析\n",
    "- 数据的属性探查\n",
    "- 数据预处理\n",
    "- 数据的相关性分析\n",
    "- 特征工程\n",
    "- 数据模型构建\n",
    "- 交叉检验\n",
    "- 特征选择\n",
    "- 模型过拟合分析"
   ]
  },
  {
   "cell_type": "markdown",
   "metadata": {},
   "source": [
    "#### 1. 数据的基本统计分析"
   ]
  },
  {
   "cell_type": "code",
   "execution_count": 6,
   "metadata": {},
   "outputs": [
    {
     "name": "stdout",
     "output_type": "stream",
     "text": [
      "<class 'pandas.core.frame.DataFrame'>\n",
      "RangeIndex: 891 entries, 0 to 890\n",
      "Data columns (total 12 columns):\n",
      " #   Column       Non-Null Count  Dtype  \n",
      "---  ------       --------------  -----  \n",
      " 0   PassengerId  891 non-null    int64  \n",
      " 1   Survived     891 non-null    int64  \n",
      " 2   Pclass       891 non-null    int64  \n",
      " 3   Name         891 non-null    object \n",
      " 4   Sex          891 non-null    object \n",
      " 5   Age          714 non-null    float64\n",
      " 6   SibSp        891 non-null    int64  \n",
      " 7   Parch        891 non-null    int64  \n",
      " 8   Ticket       891 non-null    object \n",
      " 9   Fare         891 non-null    float64\n",
      " 10  Cabin        204 non-null    object \n",
      " 11  Embarked     889 non-null    object \n",
      "dtypes: float64(2), int64(5), object(5)\n",
      "memory usage: 83.7+ KB\n",
      "None\n",
      "<class 'pandas.core.frame.DataFrame'>\n",
      "RangeIndex: 418 entries, 0 to 417\n",
      "Data columns (total 11 columns):\n",
      " #   Column       Non-Null Count  Dtype  \n",
      "---  ------       --------------  -----  \n",
      " 0   PassengerId  418 non-null    int64  \n",
      " 1   Pclass       418 non-null    int64  \n",
      " 2   Name         418 non-null    object \n",
      " 3   Sex          418 non-null    object \n",
      " 4   Age          332 non-null    float64\n",
      " 5   SibSp        418 non-null    int64  \n",
      " 6   Parch        418 non-null    int64  \n",
      " 7   Ticket       418 non-null    object \n",
      " 8   Fare         417 non-null    float64\n",
      " 9   Cabin        91 non-null     object \n",
      " 10  Embarked     418 non-null    object \n",
      "dtypes: float64(2), int64(4), object(5)\n",
      "memory usage: 36.0+ KB\n",
      "None\n",
      "       PassengerId    Survived      Pclass         Age       SibSp  \\\n",
      "count   891.000000  891.000000  891.000000  714.000000  891.000000   \n",
      "mean    446.000000    0.383838    2.308642   29.699118    0.523008   \n",
      "std     257.353842    0.486592    0.836071   14.526497    1.102743   \n",
      "min       1.000000    0.000000    1.000000    0.420000    0.000000   \n",
      "25%     223.500000    0.000000    2.000000   20.125000    0.000000   \n",
      "50%     446.000000    0.000000    3.000000   28.000000    0.000000   \n",
      "75%     668.500000    1.000000    3.000000   38.000000    1.000000   \n",
      "max     891.000000    1.000000    3.000000   80.000000    8.000000   \n",
      "\n",
      "            Parch        Fare  \n",
      "count  891.000000  891.000000  \n",
      "mean     0.381594   32.204208  \n",
      "std      0.806057   49.693429  \n",
      "min      0.000000    0.000000  \n",
      "25%      0.000000    7.910400  \n",
      "50%      0.000000   14.454200  \n",
      "75%      0.000000   31.000000  \n",
      "max      6.000000  512.329200  \n",
      "       PassengerId      Pclass         Age       SibSp       Parch        Fare\n",
      "count   418.000000  418.000000  332.000000  418.000000  418.000000  417.000000\n",
      "mean   1100.500000    2.265550   30.272590    0.447368    0.392344   35.627188\n",
      "std     120.810458    0.841838   14.181209    0.896760    0.981429   55.907576\n",
      "min     892.000000    1.000000    0.170000    0.000000    0.000000    0.000000\n",
      "25%     996.250000    1.000000   21.000000    0.000000    0.000000    7.895800\n",
      "50%    1100.500000    3.000000   27.000000    0.000000    0.000000   14.454200\n",
      "75%    1204.750000    3.000000   39.000000    1.000000    0.000000   31.500000\n",
      "max    1309.000000    3.000000   76.000000    8.000000    9.000000  512.329200\n"
     ]
    }
   ],
   "source": [
    "import pandas as pd\n",
    "import numpy as np\n",
    "\n",
    "data_train=pd.read_csv(\"train.csv\")\n",
    "data_test=pd.read_csv(\"test.csv\")\n",
    "\n",
    "print(data_train.info())\n",
    "print(data_test.info())\n",
    "\n",
    "#各列属性的统计信息\n",
    "print(data_train.describe())\n",
    "print(data_test.describe())"
   ]
  },
  {
   "cell_type": "markdown",
   "metadata": {},
   "source": [
    "#### 结论：\n",
    "属性信息\n",
    "- Survived（获救情况）变量为因变量，其值只有两类1或0，代表着获救或未获救；\n",
    "- Pclass（乘客等级），Sex（性别），Embarked（登船港口）是明显的类别型数据\n",
    "- Age（年龄），SibSp（堂兄弟妹个数），Parch（父母与小孩的个数）则是隐性的类别型数据；\n",
    "- Fare（票价）是数值型数据；\n",
    "- Cabin（船舱）则为文本型数据；\n",
    "- Age（年龄），Cabin（船舱）和Embarked（登船港口）信息存在缺失数据。\n",
    "\n",
    "统计信息\n",
    "- 重点点关注标准差，最小值和最大值三个指标\n",
    "- 标准差反映了数据的离散程度\n",
    "- 最大和最小值一般可以看出数据是否有异常值，箱线图查看异常值"
   ]
  },
  {
   "cell_type": "markdown",
   "metadata": {},
   "source": [
    "#### 2. 数据的属性探测：针对单个属性研究分布\n",
    "\n",
    "- 查看获救情况"
   ]
  },
  {
   "cell_type": "code",
   "execution_count": 7,
   "metadata": {},
   "outputs": [
    {
     "ename": "ModuleNotFoundError",
     "evalue": "No module named 'matplotlib'",
     "output_type": "error",
     "traceback": [
      "\u001b[0;31m---------------------------------------------------------------------------\u001b[0m",
      "\u001b[0;31mModuleNotFoundError\u001b[0m                       Traceback (most recent call last)",
      "\u001b[1;32m/mnt/d/ShareLinuxFile/DA-code/Titanic/Titanic处理.ipynb Cell 6'\u001b[0m in \u001b[0;36m<cell line: 1>\u001b[0;34m()\u001b[0m\n\u001b[0;32m----> <a href='vscode-notebook-cell://wsl%2Bubuntu/mnt/d/ShareLinuxFile/DA-code/Titanic/Titanic%E5%A4%84%E7%90%86.ipynb#ch0000005vscode-remote?line=0'>1</a>\u001b[0m \u001b[39mimport\u001b[39;00m \u001b[39mmatplotlib\u001b[39;00m\u001b[39m.\u001b[39;00m\u001b[39mpyplot\u001b[39;00m \u001b[39mas\u001b[39;00m \u001b[39mplt\u001b[39;00m\n\u001b[1;32m      <a href='vscode-notebook-cell://wsl%2Bubuntu/mnt/d/ShareLinuxFile/DA-code/Titanic/Titanic%E5%A4%84%E7%90%86.ipynb#ch0000005vscode-remote?line=1'>2</a>\u001b[0m \u001b[39mimport\u001b[39;00m \u001b[39mseaborn\u001b[39;00m\n\u001b[1;32m      <a href='vscode-notebook-cell://wsl%2Bubuntu/mnt/d/ShareLinuxFile/DA-code/Titanic/Titanic%E5%A4%84%E7%90%86.ipynb#ch0000005vscode-remote?line=3'>4</a>\u001b[0m \u001b[39m#显示中文标题\u001b[39;00m\n",
      "\u001b[0;31mModuleNotFoundError\u001b[0m: No module named 'matplotlib'"
     ]
    }
   ],
   "source": [
    "import matplotlib.pyplot as plt\n",
    "import seaborn\n",
    "\n",
    "#显示中文标题\n",
    "plt.rcParams['font.sans-serif']=['SimHei']\n",
    "plt.rcParams['axes.unicode_minus']=False\n",
    "\n",
    "#查看有多少人 丧生0:获救1\n",
    "print(data_train['Survived'].value_counts())"
   ]
  },
  {
   "cell_type": "markdown",
   "metadata": {},
   "source": [
    "- 分类型和数值型数据非常适合绘图\n",
    "- 乘客等级Pclass、性别Sex、年龄Age、票价Fare和登船港口Embarked五类属性分别绘图"
   ]
  },
  {
   "cell_type": "code",
   "execution_count": 142,
   "metadata": {},
   "outputs": [
    {
     "data": {
      "image/png": "[encoded data removed]",
      "text/plain": [
       "<Figure size 432x288 with 6 Axes>"
      ]
     },
     "metadata": {
      "needs_background": "light"
     },
     "output_type": "display_data"
    }
   ],
   "source": [
    "fig=plt.figure()\n",
    "\n",
    "#乘客等级分布\n",
    "plt.subplot2grid((2,3),(0,0))\n",
    "data_train['Pclass'].value_counts().plot(kind='bar')\n",
    "plt.ylabel(u'人数')\n",
    "plt.xlabel(u'乘客等级')\n",
    "plt.title(u'乘客等级分布')\n",
    "\n",
    "\n",
    "#乘客性别分布,柱状图bar\n",
    "plt.subplot2grid((2,3),(0,1))\n",
    "data_train['Sex'].value_counts().plot(kind='bar')\n",
    "plt.ylabel(u'人数')\n",
    "plt.xlabel(u'性别')\n",
    "plt.title(u'乘客性别分布')\n",
    "\n",
    "#乘客年龄分布，直方图Hist\n",
    "plt.subplot2grid((2,3),(0,2))\n",
    "data_train['Age'].hist()\n",
    "plt.ylabel(u'人数')\n",
    "plt.xlabel(u'年龄')\n",
    "plt.title(u'乘客年龄分布')\n",
    "\n",
    "\n",
    "#船票票价分布\n",
    "plt.subplot2grid((2,3),(1,0))\n",
    "data_train['Fare'].hist()\n",
    "plt.ylabel(u'人数')\n",
    "plt.xlabel(u'票价')\n",
    "plt.title(u'船票票价分布')\n",
    "\n",
    "#船票异常值分布，箱线图Box\n",
    "plt.subplot2grid((2,3),(1,1))\n",
    "data_train['Fare'].plot(kind='box')\n",
    "plt.title(u'票价箱线图')\n",
    "\n",
    "\n",
    "#登船港口分布图\n",
    "plt.subplot2grid((2,3),(1,2))\n",
    "data_train['Embarked'].value_counts().plot(kind='bar')\n",
    "plt.xlabel(u'登船港口')\n",
    "plt.title(u'登船口乘客量分布')\n",
    "\n",
    "plt.subplots_adjust(wspace=0.5,hspace=0.5)\n",
    "plt.show()\n"
   ]
  },
  {
   "cell_type": "markdown",
   "metadata": {},
   "source": [
    "#### 图表结论\n",
    "- 三个柱状图：分类量\n",
    "    1. 乘客等级上，3等乘客人数最多，其次是1、2等\n",
    "    2. 乘客性别上，男性多于女性\n",
    "    3. 登船港口上，乘客量由高到低的分别是S>C>Q  \n",
    "    \n",
    "- 两个直方图：连续量\n",
    "    1. 乘客年龄，20~30岁人数较多\n",
    "    2. 票价存在异常值，继续分析"
   ]
  },
  {
   "cell_type": "code",
   "execution_count": 143,
   "metadata": {},
   "outputs": [
    {
     "name": "stdout",
     "output_type": "stream",
     "text": [
      "0.0    15\n",
      "Name: Fare, dtype: int64\n",
      "512.3292    3\n",
      "Name: Fare, dtype: int64\n"
     ]
    }
   ],
   "source": [
    "#异常值：max  min\n",
    "print(data_train[data_train['Fare'] == min(data_train['Fare'])]['Fare'].value_counts())\n",
    "print(data_train[data_train['Fare'] == max(data_train['Fare'])]['Fare'].value_counts())"
   ]
  },
  {
   "cell_type": "markdown",
   "metadata": {},
   "source": [
    "- 票价异常值\n",
    "\n",
    "    1. min 最小值0 ，有 15 条记录\n",
    "    2. max 最大值512.3292，有 3 条记录\n",
    "\n",
    "    异常值不一定错误：极小值可能是优惠票，极大值可能是VIP票"
   ]
  },
  {
   "cell_type": "markdown",
   "metadata": {},
   "source": [
    "- 探测剩余的属性分布\n",
    "\n",
    "    1. 剩余的类别属性：\n",
    "\n",
    "        Sibsp堂兄妹个数\n",
    "        Parch父母与小孩的个数\n",
    "    \n",
    "    2. 文本类型属性：\n",
    "\n",
    "        Cabin船舱信息（缺失严重）\n"
   ]
  },
  {
   "cell_type": "code",
   "execution_count": 144,
   "metadata": {},
   "outputs": [
    {
     "name": "stdout",
     "output_type": "stream",
     "text": [
      "0    608\n",
      "1    209\n",
      "2     28\n",
      "4     18\n",
      "3     16\n",
      "8      7\n",
      "5      5\n",
      "Name: SibSp, dtype: int64\n",
      "0    678\n",
      "1    118\n",
      "2     80\n",
      "5      5\n",
      "3      5\n",
      "4      4\n",
      "6      1\n",
      "Name: Parch, dtype: int64\n"
     ]
    }
   ],
   "source": [
    "print(data_train['SibSp'].value_counts())\n",
    "print(data_train['Parch'].value_counts())"
   ]
  },
  {
   "cell_type": "markdown",
   "metadata": {},
   "source": [
    "这两类属性在值为0，1时人数较多\n",
    "\n",
    "船舱：\n",
    "\n",
    "1. Cabin船舱信息缺失值严重，且为文本类信息，不深入分析；\n",
    "2. 观察到Cabin形式，如：A18，字母+数字；\n",
    "3. 类似于高铁座位号，可将两部分分离再分析，字母分布代表位置分布"
   ]
  },
  {
   "cell_type": "code",
   "execution_count": 145,
   "metadata": {},
   "outputs": [
    {
     "name": "stdout",
     "output_type": "stream",
     "text": [
      "C    59\n",
      "B    47\n",
      "D    33\n",
      "E    32\n",
      "A    15\n",
      "F    13\n",
      "G     4\n",
      "T     1\n",
      "Name: level, dtype: int64\n"
     ]
    }
   ],
   "source": [
    "data_train['level']=data_train['Cabin'].str.extract(r'([A-Za-z])')\n",
    "print(data_train['level'].value_counts())"
   ]
  },
  {
   "cell_type": "markdown",
   "metadata": {},
   "source": [
    "可见，船舱信息中，C/B/D/E位置人数最多。"
   ]
  },
  {
   "cell_type": "markdown",
   "metadata": {},
   "source": [
    "#### 3. 数据预处理\n",
    "\n",
    "        处理缺失值、异常值\n",
    "\n",
    "首先界定处理范围：\n",
    "\n",
    "        1. 票价异常值合理，不讨论\n",
    "        2. 船舱缺失值严重，不分析\n",
    "        3. 年龄、登陆港口存在少量缺失值，填充"
   ]
  },
  {
   "cell_type": "markdown",
   "metadata": {},
   "source": [
    "- 缺失值填充：年龄\n",
    "\n",
    "    1. 基本填充方法：删除、固定值填充、均值/中位数/众数填充\n",
    "    2. 较复杂的预测填充\n",
    "    3. 此数据集较小，基本填充方法难以反映缺失数据的特性，故采用预测填充（随机森林）\n",
    "    4. 随机森林算法：借助其他属性值，预测缺失数据值"
   ]
  },
  {
   "cell_type": "code",
   "execution_count": 146,
   "metadata": {},
   "outputs": [],
   "source": [
    "from sklearn.ensemble import RandomForestRegressor\n",
    "\n",
    "def set_missing_age(df):\n",
    "    #取出数值特征，放入随机森林进行训练\n",
    "    age_df=df[['Age','Fare','Parch','SibSp','Pclass']]\n",
    "\n",
    "    #按是否缺失，将乘客划分为：已知年龄、未知年龄\n",
    "    know_age=age_df[age_df.Age.notnull()].values\n",
    "    unknow_age=age_df[age_df.Age.isnull()].values\n",
    "\n",
    "    #目标数据y：所有行的age列（第一列）\n",
    "    y=know_age[:,0]\n",
    "    #特征属性数据x：除了age以外的其他属性列\n",
    "    x=know_age[:,1:]\n",
    "\n",
    "    #利用随机森林进行拟合RandomForestRegressor\n",
    "    #random_state: Controls both the randomness of \n",
    "    #    the bootstrapping of the samples used when building trees\n",
    "    #n_estimator: The number of trees in the forest.\n",
    "    #n_jobs: The number of jobs to run in parallel. -1 use all\n",
    "    rfr=RandomForestRegressor(random_state=0,n_estimators=2000,n_jobs=-1)\n",
    "    rfr.fit(x,y)\n",
    "\n",
    "    #利用训练的模型进行预测\n",
    "    predictedAge=rfr.predict(unknow_age[:,1::])\n",
    "\n",
    "    #填补缺失的原始数据\n",
    "    df.loc[(df.Age.isnull()),'Age']=predictedAge\n",
    "\n",
    "    return df\n",
    "\n",
    "data_train=set_missing_age(data_train)\n",
    "\n",
    "\n",
    "\n"
   ]
  },
  {
   "cell_type": "markdown",
   "metadata": {},
   "source": [
    "- 缺失值填充：登陆港口\n",
    "\n",
    "        仅有两条缺失，直接删除"
   ]
  },
  {
   "cell_type": "code",
   "execution_count": 147,
   "metadata": {},
   "outputs": [],
   "source": [
    "data=data_train.drop(data_train[data_train.Embarked.isnull()].index)\n",
    "#新建表赋值，不覆盖原来的表"
   ]
  },
  {
   "cell_type": "markdown",
   "metadata": {},
   "source": [
    "#### 4. 数据相关性分析\n",
    "\n",
    "        1. 冗余关系\n",
    "        2. 因果关系（重要）： 属性之间、单个属性与结果\n"
   ]
  },
  {
   "cell_type": "markdown",
   "metadata": {},
   "source": [
    "- 属性间的相关性\n",
    "\n",
    "        df.corr()  相关系数"
   ]
  },
  {
   "cell_type": "code",
   "execution_count": 148,
   "metadata": {},
   "outputs": [
    {
     "name": "stdout",
     "output_type": "stream",
     "text": [
      "            Pclass       Age     SibSp     Parch      Fare  Survived\n",
      "Pclass    1.000000 -0.391786  0.081656  0.016824 -0.548193 -0.335549\n",
      "Age      -0.391786  1.000000 -0.322946 -0.219123  0.090576 -0.059086\n",
      "SibSp     0.081656 -0.322946  1.000000  0.414542  0.160887 -0.034040\n",
      "Parch     0.016824 -0.219123  0.414542  1.000000  0.217532  0.083151\n",
      "Fare     -0.548193  0.090576  0.160887  0.217532  1.000000  0.255290\n",
      "Survived -0.335549 -0.059086 -0.034040  0.083151  0.255290  1.000000\n"
     ]
    },
    {
     "data": {
      "image/png": "[encoded data removed]",
      "text/plain": [
       "<Figure size 432x288 with 2 Axes>"
      ]
     },
     "metadata": {
      "needs_background": "light"
     },
     "output_type": "display_data"
    }
   ],
   "source": [
    "import seaborn\n",
    "df = data[['Pclass', 'Sex', 'Age', 'SibSp', 'Parch', 'Fare', 'Survived']]\n",
    "#属性间相关系数\n",
    "cor=df.corr()\n",
    "print(cor)\n",
    "\n",
    "#绘制相关性热力图\n",
    "seaborn.heatmap(cor)\n",
    "plt.show()"
   ]
  },
  {
   "cell_type": "markdown",
   "metadata": {},
   "source": [
    "结论\n",
    "\n",
    "    1. 各个结果之间的相关性都不大\n",
    "\n",
    "    2. 橙色部分的，SibSp与Parch略有相关性\n",
    "\n",
    "    3. 相关性系数利于分析数值型数据，而对于分类型数据进一步分析单个属性与结果的关系"
   ]
  },
  {
   "cell_type": "markdown",
   "metadata": {},
   "source": [
    "- 单个属性与结果的相关性\n",
    "\n",
    "    1. 常规分类型数据\n",
    "    2. 其他：SibSp和Parch，分类数较多且有些相关"
   ]
  },
  {
   "cell_type": "code",
   "execution_count": 149,
   "metadata": {},
   "outputs": [
    {
     "name": "stdout",
     "output_type": "stream",
     "text": [
      "中年    799\n",
      "儿童     68\n",
      "老年     21\n",
      "Name: Age_cut, dtype: int64\n"
     ]
    },
    {
     "data": {
      "image/png": "[encoded data removed]",
      "text/plain": [
       "<Figure size 1000x800 with 4 Axes>"
      ]
     },
     "metadata": {
      "needs_background": "light"
     },
     "output_type": "display_data"
    }
   ],
   "source": [
    "# 绘图\n",
    "plt.figure(figsize=(10, 8), dpi=100)\n",
    "\n",
    "# 乘客的等级和获救情况的关系, 从结果上发现，1和2等级的乘客获救率明显高于3等级的乘客\n",
    "p1 = plt.subplot(221)\n",
    "Pclass_0 = data.loc[data['Survived'] == 0, 'Pclass'].value_counts()\n",
    "Pclass_1 = data.loc[data['Survived'] == 1, 'Pclass'].value_counts()\n",
    "df_pclass = pd.DataFrame({u'获救':Pclass_1,u'未获救':Pclass_0})\n",
    "df_pclass.plot(kind='bar', ax=p1)\n",
    "plt.title(u'不同等级乘客的获救情况')\n",
    "\n",
    "# 同样的方法，我们看一下性别和获救情况的关系,结果非常明显，女性比男性的获救率高\n",
    "p2 = plt.subplot(222)\n",
    "Survived_m = data.loc[data['Sex'] == 'male', 'Survived'].value_counts()\n",
    "Survived_f = data.loc[data['Sex'] == 'female', 'Survived'].value_counts()\n",
    "df_sex = pd.DataFrame({u'男性':Survived_m, u'女性':Survived_f})\n",
    "df_sex.plot(kind='bar', stacked=True, ax=p2)\n",
    "plt.title(u'不同性别乘客的获救情况')\n",
    "\n",
    "# 年龄划分，划分的标准：0~10为儿童；10~60为成年人；60及以上为老年人\n",
    "p3 = plt.subplot(223)\n",
    "bins = [min(data['Age']), 10, 60, max(data['Age'])]\n",
    "bins_label = ['儿童', '中年', '老年']\n",
    "data['Age_cut'] = pd.cut(data['Age'], bins=bins, labels=bins_label)\n",
    "print(data['Age_cut'].value_counts())\n",
    "# 再对数据进行统计，结果发现儿童的获救率明显高于成年人和老年人\n",
    "Age_0 = data.loc[data['Survived'] == 0, 'Age_cut'].value_counts()\n",
    "Age_1 = data.loc[data['Survived'] == 1, 'Age_cut'].value_counts()\n",
    "df_age = pd.DataFrame({u'获救':Age_1, u'未获救':Age_0})\n",
    "df_age.plot(kind='bar', ax=p3)\n",
    "plt.title(u'不同年龄阶段乘客的获救情况')\n",
    "\n",
    "# 登录港口和获救情况的关系\n",
    "p4 = plt.subplot(224)\n",
    "Embarked_0 = data.Embarked[data.Survived == 0].value_counts()\n",
    "Embarked_1 = data.Embarked[data.Survived == 1].value_counts()\n",
    "df_Embarked = pd.DataFrame({u'获救': Embarked_1, u'未获救': Embarked_0})\n",
    "df_Embarked.plot(kind='bar', stacked=True, ax=p4)\n",
    "plt.title(u'不同登陆港口乘客的获救情况')\n",
    "\n",
    "plt.show()\n",
    "\n"
   ]
  },
  {
   "cell_type": "markdown",
   "metadata": {},
   "source": [
    "结论\n",
    "\n",
    "    1. 高级别的乘客获救率高\n",
    "    2. 女性获救率高于男性\n",
    "    3. 儿童获救率高于成年人和老人\n",
    "    4. S港登陆人数多，C港获救率略高"
   ]
  },
  {
   "cell_type": "markdown",
   "metadata": {},
   "source": [
    "其次，针对类别较多的SibSp和Parch属性，我们直接统计各类的是否获救情况。"
   ]
  },
  {
   "cell_type": "code",
   "execution_count": 150,
   "metadata": {},
   "outputs": [
    {
     "name": "stdout",
     "output_type": "stream",
     "text": [
      "                count\n",
      "SibSp Survived       \n",
      "0     0           398\n",
      "      1           208\n",
      "1     0            97\n",
      "      1           112\n",
      "2     0            15\n",
      "      1            13\n",
      "3     0            12\n",
      "      1             4\n",
      "4     0            15\n",
      "      1             3\n",
      "5     0             5\n",
      "8     0             7\n",
      "                count\n",
      "Parch Survived       \n",
      "0     0           445\n",
      "      1           231\n",
      "1     0            53\n",
      "      1            65\n",
      "2     0            40\n",
      "      1            40\n",
      "3     0             2\n",
      "      1             3\n",
      "4     0             4\n",
      "5     0             4\n",
      "      1             1\n",
      "6     0             1\n"
     ]
    }
   ],
   "source": [
    "\n",
    "g1=data.groupby(['SibSp','Survived'])\n",
    "df_SibSp = pd.DataFrame(g1.count()['PassengerId'])\n",
    "df_SibSp.rename(columns={'PassengerId':'count'},inplace=True)\n",
    "print(df_SibSp)\n",
    "\n",
    "g2=data.groupby(['Parch','Survived'])\n",
    "df_Parch=pd.DataFrame(g2.count()['PassengerId'])\n",
    "df_Parch.rename(columns={'PassengerId':'count'},inplace=True)\n",
    "print(df_Parch)"
   ]
  },
  {
   "cell_type": "markdown",
   "metadata": {},
   "source": [
    "结论\n",
    "\n",
    "        SibSp<3  和 Parch<3  时， 获救率更高。"
   ]
  },
  {
   "cell_type": "markdown",
   "metadata": {},
   "source": [
    "最后，再次分析Fare票价与获救情况的关系；\n",
    "\n",
    "- 票价为连续数值型 - > 密度分布图\n",
    "\n",
    "- 因为无法像年龄一样有明显的分段：老中少"
   ]
  },
  {
   "cell_type": "code",
   "execution_count": 151,
   "metadata": {},
   "outputs": [],
   "source": [
    "#密度分布图"
   ]
  },
  {
   "cell_type": "code",
   "execution_count": 152,
   "metadata": {},
   "outputs": [
    {
     "name": "stdout",
     "output_type": "stream",
     "text": [
      "0    14\n",
      "1     1\n",
      "Name: Survived, dtype: int64\n",
      "1    3\n",
      "Name: Survived, dtype: int64\n"
     ]
    }
   ],
   "source": [
    "\n",
    "print(data.loc[data['Fare'] == 0, 'Survived'].value_counts())\n",
    "print(data.loc[data['Fare'] == max(data['Fare']), 'Survived'].value_counts())"
   ]
  },
  {
   "cell_type": "markdown",
   "metadata": {},
   "source": [
    "结论\n",
    "\n",
    "        1. 票价为0的15人，仅1人获救\n",
    "        2. 票价最高的3人，全部获救\n",
    "\n",
    "        票价高获救率高。"
   ]
  },
  {
   "cell_type": "markdown",
   "metadata": {},
   "source": [
    "#### 5. 特征工程"
   ]
  },
  {
   "cell_type": "code",
   "execution_count": 153,
   "metadata": {},
   "outputs": [],
   "source": [
    "import sklearn.preprocessing as preprocessing\n",
    "\n",
    "#特征因子化\n",
    "def set_numeralization(data):\n",
    "    #针对定类性属性分别因子化：Embarked Sex Pclass\n",
    "    dummied_Embarked=pd.get_dummies(data['Embarked'],prefix='Embarked')\n",
    "    dummied_Sex=pd.get_dummies(data['Sex'],prefix='Sex')\n",
    "    dummied_Pclass=pd.get_dummies(data['Pclass'],prefix='Pclass')\n",
    "\n",
    "    #合并新属性，剔除旧属性\n",
    "    df=pd.concat([data,dummied_Embarked,dummied_Sex,dummied_Pclass],axis=1)\n",
    "    df.drop(['Pclass','Sex','Embarked'],axis=1,inplace=True)\n",
    "    return df\n",
    "\n",
    "#特征归一化\n",
    "def set_normalization(df):\n",
    "    scaler=preprocessing.StandardScaler()\n",
    "    age_scaler_param=scaler.fit(df['Age'].values.reshape(-1,1))\n",
    "    df['Age_scaler']=scaler.transform(df['Age'].values.reshape(-1,1),age_scaler_param)\n",
    "    fare_scaler_param=scaler.fit(df['Fare'].values.reshape(-1,1))\n",
    "    df['Fare_scaler']=scaler.transform(df['Fare'].values.reshape(-1,1),fare_scaler_param)\n",
    "    return df\n",
    "\n",
    "#特征工程\n",
    "data= set_numeralization(data)\n",
    "data=set_normalization(data)"
   ]
  },
  {
   "cell_type": "code",
   "execution_count": 154,
   "metadata": {},
   "outputs": [
    {
     "name": "stdout",
     "output_type": "stream",
     "text": [
      "<class 'pandas.core.frame.DataFrame'>\n",
      "Int64Index: 889 entries, 0 to 890\n",
      "Data columns (total 21 columns):\n",
      " #   Column       Non-Null Count  Dtype   \n",
      "---  ------       --------------  -----   \n",
      " 0   PassengerId  889 non-null    int64   \n",
      " 1   Survived     889 non-null    int64   \n",
      " 2   Name         889 non-null    object  \n",
      " 3   Age          889 non-null    float64 \n",
      " 4   SibSp        889 non-null    int64   \n",
      " 5   Parch        889 non-null    int64   \n",
      " 6   Ticket       889 non-null    object  \n",
      " 7   Fare         889 non-null    float64 \n",
      " 8   Cabin        202 non-null    object  \n",
      " 9   level        202 non-null    object  \n",
      " 10  Age_cut      888 non-null    category\n",
      " 11  Embarked_C   889 non-null    uint8   \n",
      " 12  Embarked_Q   889 non-null    uint8   \n",
      " 13  Embarked_S   889 non-null    uint8   \n",
      " 14  Sex_female   889 non-null    uint8   \n",
      " 15  Sex_male     889 non-null    uint8   \n",
      " 16  Pclass_1     889 non-null    uint8   \n",
      " 17  Pclass_2     889 non-null    uint8   \n",
      " 18  Pclass_3     889 non-null    uint8   \n",
      " 19  Age_scaler   889 non-null    float64 \n",
      " 20  Fare_scaler  889 non-null    float64 \n",
      "dtypes: category(1), float64(4), int64(4), object(4), uint8(8)\n",
      "memory usage: 98.2+ KB\n"
     ]
    }
   ],
   "source": [
    "# data.rename(columns={'age_scaler':'Age_scaler'},inplace=True)\n",
    "# data.rename(columns={'fare_scaler':'Fare_scaler'},inplace=True)\n",
    "data.info()"
   ]
  },
  {
   "cell_type": "markdown",
   "metadata": {},
   "source": [
    "#### 6. 数据建模\n",
    "\n",
    "        二分类问题 - > 逻辑回归模型"
   ]
  },
  {
   "cell_type": "code",
   "execution_count": 155,
   "metadata": {},
   "outputs": [
    {
     "name": "stdout",
     "output_type": "stream",
     "text": [
      "   PassengerId  Survived\n",
      "0          892         0\n",
      "1          893         0\n",
      "2          894         0\n",
      "3          895         0\n",
      "4          896         0\n",
      "  columns                   coef\n",
      "0   SibSp  [-0.1594196079516946]\n",
      "1   Parch  [0.28911975046852934]\n"
     ]
    },
    {
     "name": "stderr",
     "output_type": "stream",
     "text": [
      "/mnt/d/ShareLinuxFile/Pyenv/venv/lib/python3.10/site-packages/sklearn/base.py:443: UserWarning: X has feature names, but LogisticRegression was fitted without feature names\n",
      "  warnings.warn(\n"
     ]
    }
   ],
   "source": [
    "from sklearn import linear_model\n",
    "# 利用正则表达式取出需要的属性\n",
    "train_df = data_train.filter(regex='Survived|Age_.*|SibSp|Parch|Fare_.*|Embarked_.*|Sex_.*|Pclass_.*')\n",
    "train_np = train_df.values\n",
    "\n",
    "test_df = data_test.filter(regex='Age_.*|SibSp|Parch|Fare_.*|Embarked_.*|Sex_.*|Pclass_.*')\n",
    "\n",
    "# 获取y\n",
    "y = train_np[:,0]\n",
    "# 获取自变量x\n",
    "x = train_np[:,1:]\n",
    "\n",
    "# 利用逻辑回归进行拟合,得到训练的模型\n",
    "clf = linear_model.LogisticRegression(solver='liblinear',C=1.0,penalty='l2',tol=1e-6)\n",
    "clf.fit(x,y)\n",
    "\n",
    "# 对测试数据进行预测\n",
    "predictions = clf.predict(test_df)\n",
    "result = pd.DataFrame({'PassengerId':data_test['PassengerId'].values,'Survived':predictions.astype(np.int32)})\n",
    "print(result.head())\n",
    "\n",
    "# 模型中各属性的系数（用于分析各特征的贡献度）\n",
    "feature_corr = pd.DataFrame({'columns':list(train_df.columns)[1:],'coef':list(clf.coef_.T)})\n",
    "print(feature_corr)"
   ]
  },
  {
   "cell_type": "markdown",
   "metadata": {},
   "source": [
    "#### 7. 交叉验证\n",
    "\n",
    "    目的：检验模型的好坏\n",
    "    做法：对模型分割5次，每次20%拿去检测，80%用于训练，输出每次的精度，和五次精度平均值。"
   ]
  },
  {
   "cell_type": "code",
   "execution_count": 156,
   "metadata": {},
   "outputs": [
    {
     "name": "stdout",
     "output_type": "stream",
     "text": [
      "[0.61452514 0.61797753 0.62921348 0.62359551 0.61235955]\n",
      "0.619534241416107\n"
     ]
    }
   ],
   "source": [
    "from sklearn.model_selection import cross_val_score\n",
    "train_df = data_train.filter(regex='Survived|Age_.*|SibSp|Parch|Fare_.*|Embarked_.*|Sex_.*|Pclass_.*')\n",
    "train_np = train_df.values\n",
    "# 获取y\n",
    "y = train_np[:, 0]\n",
    "# 获取自变量x\n",
    "x = train_np[:, 1:]\n",
    "\n",
    "# 利用逻辑回归进行拟合,得到训练的模型\n",
    "clf = linear_model.LogisticRegression(solver='liblinear', C=1.0, penalty='l2', tol=1e-6)\n",
    "clf.fit(x, y)\n",
    "\n",
    "# 交叉检验\n",
    "score = cross_val_score(clf, x, y, cv=5, scoring='accuracy')\n",
    "print(score)\n",
    "print(score.mean())"
   ]
  },
  {
   "cell_type": "markdown",
   "metadata": {},
   "source": [
    "#### 8. 特征选择\n"
   ]
  },
  {
   "cell_type": "code",
   "execution_count": null,
   "metadata": {},
   "outputs": [],
   "source": [
    "# 对于SibSp属性，我们划分成0,1~2，3~8三个等级\n",
    "data['SibSp_cut'] = 1\n",
    "data.loc[data['SibSp'] == 0, 'SibSp_cut'] = 0\n",
    "data.loc[data['SibSp'] >= 3, 'SibSp_cut'] = 2\n",
    "\n",
    "# 对于Parch属性，我们划分成0,1~3，4~6三个等级\n",
    "data['Parch_cut'] = 1\n",
    "data.loc[data['Parch'] == 0, 'Parch_cut'] = 0\n",
    "data.loc[data['Parch'] > 3, 'Parch_cut'] = 2\n",
    "\n",
    "# 因子化处理\n",
    "dummies_SibSp = pd.get_dummies(data['SibSp_cut'], prefix='SibSp')\n",
    "dummies_Parch = pd.get_dummies(data['Parch_cut'], prefix='Parch')\n",
    "data.drop(['SibSp_cut', 'Parch_cut'], axis=1, inplace=True)\n",
    "\n",
    "# 数据归一化\n",
    "transfer = preprocessing.MinMaxScaler(feature_range=[0, 1])\n",
    "data['Age_scaled'] = transfer.fit_transform(data['Age'].values.reshape(-1, 1))\n",
    "data['Fare_scaled'] = transfer.fit_transform(data['Fare'].values.reshape(-1, 1))\n",
    "\n",
    "# 数据合并\n",
    "df = pd.concat([data, dummies_SibSp, dummies_Parch], axis=1)\n",
    "\n",
    "# 特征筛选\n",
    "data_train = df.filter(regex='Survived|Age_.*|SibSp_.*|Parch_.*|Fare_.*|Cabin_.*|Embarked_.*|Sex_.*|Pclass_.*')\n",
    "\n",
    "# 模型的交叉检验\n",
    "train_np = data_train.values\n",
    "# 获取y\n",
    "y = train_np[:, 0]\n",
    "# 获取自变量x\n",
    "x = train_np[:, 1:]\n",
    "\n",
    "# 利用逻辑回归进行拟合,得到训练的模型\n",
    "clf = linear_model.LogisticRegression(solver='liblinear', C=1.0, penalty='l2', tol=1e-6)\n",
    "clf.fit(x, y)\n",
    "\n",
    "feature_corr = pd.DataFrame({'columns': list(data_train.columns)[1:], 'coef': list(clf.coef_.T)})\n",
    "print(feature_corr)\n",
    "\n",
    "# 交叉检验\n",
    "score = cross_val_score(clf, x, y, cv=5, scoring='accuracy')\n",
    "print(score)\n",
    "print(score.mean())"
   ]
  },
  {
   "cell_type": "markdown",
   "metadata": {},
   "source": [
    "#### 9. 模型的过拟合分析"
   ]
  },
  {
   "cell_type": "code",
   "execution_count": null,
   "metadata": {},
   "outputs": [],
   "source": [
    "# 绘制学习曲线\n",
    "def plot_learning_curve(estimator, title, X, y, ylim=None, cv=None, n_jobs=1,\n",
    "                        train_sizes=np.linspace(.05, 1.0, 20), verbose=0, plot=True):\n",
    "    train_sizes, train_scores, test_scores = learning_curve(\n",
    "        estimator, X, y, cv=cv, n_jobs=n_jobs, train_sizes=train_sizes, verbose=verbose)\n",
    "\n",
    "    train_scores_mean = np.mean(train_scores, axis=1)\n",
    "    train_scores_std = np.std(train_scores, axis=1)\n",
    "    test_scores_mean = np.mean(test_scores, axis=1)\n",
    "    test_scores_std = np.std(test_scores, axis=1)\n",
    "\n",
    "    if plot:\n",
    "        plt.figure()\n",
    "        plt.title(title)\n",
    "        if ylim is not None:\n",
    "            plt.ylim(*ylim)\n",
    "        plt.xlabel(u\"训练样本数\")\n",
    "        plt.ylabel(u\"得分\")\n",
    "        plt.gca().invert_yaxis()\n",
    "        plt.grid()\n",
    "\n",
    "        plt.fill_between(train_sizes, train_scores_mean - train_scores_std, train_scores_mean + train_scores_std,\n",
    "                         alpha=0.1, color=\"b\")\n",
    "        plt.fill_between(train_sizes, test_scores_mean - test_scores_std, test_scores_mean + test_scores_std,\n",
    "                         alpha=0.1, color=\"r\")\n",
    "        plt.plot(train_sizes, train_scores_mean, 'o-', color=\"b\", label=u\"训练集上得分\")\n",
    "        plt.plot(train_sizes, test_scores_mean, 'o-', color=\"r\", label=u\"交叉验证集上得分\")\n",
    "\n",
    "        plt.legend(loc=\"best\")\n",
    "\n",
    "        plt.draw()\n",
    "        plt.gca().invert_yaxis()\n",
    "        plt.show()\n",
    "\n",
    "# train_np = data_train.values\n",
    "# 获取y\n",
    "y = train_np[:, 0]\n",
    "# 获取自变量x\n",
    "X = train_np[:, 1:]\n",
    "\n",
    "clf = linear_model.LogisticRegression(solver='liblinear', C=1.0, penalty='l2', tol=1e-6)\n",
    "clf.fit(X, y)\n",
    "plot_learning_curve(clf, u\"学习曲线\", X, y)"
   ]
  },
  {
   "cell_type": "markdown",
   "metadata": {},
   "source": []
  }
 ],
 "metadata": {
  "kernelspec": {
   "display_name": "Python 3.10.4 64-bit",
   "language": "python",
   "name": "python3"
  },
  "language_info": {
   "codemirror_mode": {
    "name": "ipython",
    "version": 3
   },
   "file_extension": ".py",
   "mimetype": "text/x-python",
   "name": "python",
   "nbconvert_exporter": "python",
   "pygments_lexer": "ipython3",
   "version": "3.10.4"
  },
  "orig_nbformat": 4,
  "vscode": {
   "interpreter": {
    "hash": "aee8b7b246df8f9039afb4144a1f6fd8d2ca17a180786b69acc140d282b71a49"
   }
  }
 },
 "nbformat": 4,
 "nbformat_minor": 2
}
