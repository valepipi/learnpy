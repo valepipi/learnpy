{
 "cells": [
  {
   "cell_type": "markdown",
   "metadata": {},
   "source": [
    "## 索引、切片和迭代\n",
    "\n",
    "https://www.numpy.org.cn/user/quickstart.html#%E7%B4%A2%E5%BC%95%E3%80%81%E5%88%87%E7%89%87%E5%92%8C%E8%BF%AD%E4%BB%A3"
   ]
  },
  {
   "cell_type": "code",
   "execution_count": 1,
   "metadata": {},
   "outputs": [],
   "source": [
    "import numpy as np\n",
    "import pandas as pd"
   ]
  },
  {
   "cell_type": "markdown",
   "metadata": {},
   "source": [
    "### 一维数组"
   ]
  },
  {
   "cell_type": "code",
   "execution_count": 13,
   "metadata": {},
   "outputs": [
    {
     "name": "stdout",
     "output_type": "stream",
     "text": [
      "a= [  0   1   8  27  64 125 216 343 512 729]\n",
      "8\n",
      "[ 8 27 64]\n",
      "[-1000     1 -1000    27 -1000   125   216   343   512   729]\n",
      "[  729   512   343   216   125 -1000    27 -1000     1 -1000]\n"
     ]
    }
   ],
   "source": [
    "a=np.arange(10)**3\n",
    "#3次方\n",
    "print(\"a=\",a)\n",
    "\n",
    "print(a[2])\n",
    "print(a[2:5])\n",
    "#间隔赋值\n",
    "a[:6:2]=-1000\n",
    "print(a)\n",
    "# 翻转\n",
    "print(a[::-1])"
   ]
  },
  {
   "cell_type": "code",
   "execution_count": 15,
   "metadata": {},
   "outputs": [
    {
     "name": "stdout",
     "output_type": "stream",
     "text": [
      "nan\n",
      "1.0\n",
      "nan\n",
      "3.0\n",
      "nan\n",
      "4.999999999999999\n",
      "5.999999999999999\n",
      "6.999999999999999\n",
      "7.999999999999999\n",
      "8.999999999999998\n"
     ]
    },
    {
     "name": "stderr",
     "output_type": "stream",
     "text": [
      "/tmp/ipykernel_344/2294513898.py:3: RuntimeWarning: invalid value encountered in power\n",
      "  print(i**(1/3.))#三次方根\n"
     ]
    }
   ],
   "source": [
    "#迭代\n",
    "for i in a:\n",
    "    print(i**(1/3.))#三次方根"
   ]
  },
  {
   "cell_type": "markdown",
   "metadata": {},
   "source": [
    "### 多维数组"
   ]
  },
  {
   "cell_type": "markdown",
   "metadata": {},
   "source": [
    "    - 切片"
   ]
  },
  {
   "cell_type": "code",
   "execution_count": 32,
   "metadata": {},
   "outputs": [
    {
     "name": "stdout",
     "output_type": "stream",
     "text": [
      "[[ 0  1  2  3]\n",
      " [10 11 12 13]\n",
      " [20 21 22 23]\n",
      " [30 31 32 33]\n",
      " [40 41 42 43]]\n",
      "2\n",
      "[ 1 11 21 31 41]\n",
      "[ 1 11 21 31 41]\n",
      "[[10 11 12 13]\n",
      " [20 21 22 23]]\n",
      "[40 41 42 43]\n"
     ]
    }
   ],
   "source": [
    "def f(x,y):\n",
    "    return 10*x+y\n",
    "\n",
    "b=np.fromfunction(f,(5,4),dtype=int)\n",
    "print(b)\n",
    "\n",
    "print(b[0,2])\n",
    "\n",
    "#第1列的0-4行数\n",
    "print(b[0:5,1])\n",
    "#第1列的所有数\n",
    "print(b[:,1])\n",
    "#第1-2行的所有数\n",
    "print(b[1:3,:])\n",
    "\n",
    "#缺失的索引默认为 [:]\n",
    "print(b[-1])\n",
    "#等价于b[-1,:]最后一行的所有数\n",
    "\n",
    "\n",
    "#...表示省略余下的所有轴:::\n",
    "#若共有5个轴\n",
    "# x[1,2,...]等价于x[1,2,:,:,:]"
   ]
  },
  {
   "cell_type": "markdown",
   "metadata": {},
   "source": [
    "    - 迭代"
   ]
  },
  {
   "cell_type": "code",
   "execution_count": 34,
   "metadata": {},
   "outputs": [
    {
     "name": "stdout",
     "output_type": "stream",
     "text": [
      "[0 1 2 3]\n",
      "[10 11 12 13]\n",
      "[20 21 22 23]\n",
      "[30 31 32 33]\n",
      "[40 41 42 43]\n"
     ]
    }
   ],
   "source": [
    "#默认对于第一个轴迭代\n",
    "for row in b:\n",
    "    print(row)"
   ]
  },
  {
   "cell_type": "code",
   "execution_count": 35,
   "metadata": {},
   "outputs": [
    {
     "name": "stdout",
     "output_type": "stream",
     "text": [
      "0\n",
      "1\n",
      "2\n",
      "3\n",
      "10\n",
      "11\n",
      "12\n",
      "13\n",
      "20\n",
      "21\n",
      "22\n",
      "23\n",
      "30\n",
      "31\n",
      "32\n",
      "33\n",
      "40\n",
      "41\n",
      "42\n",
      "43\n"
     ]
    }
   ],
   "source": [
    "#对array.flat属性迭代，表示对多维数组中每个元素迭代\n",
    "for element in b.flat:\n",
    "    print(element)"
   ]
  },
  {
   "cell_type": "markdown",
   "metadata": {},
   "source": [
    "### 数组重构"
   ]
  },
  {
   "cell_type": "code",
   "execution_count": 48,
   "metadata": {},
   "outputs": [
    {
     "name": "stdout",
     "output_type": "stream",
     "text": [
      "[[2. 7. 9. 4.]\n",
      " [5. 5. 7. 2.]\n",
      " [2. 8. 0. 0.]]\n",
      "(3, 4)\n"
     ]
    }
   ],
   "source": [
    "a=np.floor(10*np.random.random((3,4)))\n",
    "print(a)\n",
    "print(a.shape)"
   ]
  },
  {
   "cell_type": "markdown",
   "metadata": {},
   "source": [
    "    重构为新数组，不改原始数组"
   ]
  },
  {
   "cell_type": "code",
   "execution_count": 49,
   "metadata": {},
   "outputs": [
    {
     "data": {
      "text/plain": [
       "array([[2., 5., 2.],\n",
       "       [7., 5., 8.],\n",
       "       [9., 7., 0.],\n",
       "       [4., 2., 0.]])"
      ]
     },
     "execution_count": 49,
     "metadata": {},
     "output_type": "execute_result"
    }
   ],
   "source": [
    "#拉平成一维数组\n",
    "a.ravel()\n",
    "\n",
    "a.reshape(6,2)\n",
    "\n",
    "#转置\n",
    "a.T"
   ]
  },
  {
   "cell_type": "markdown",
   "metadata": {},
   "source": [
    "    ndarray.resize会修改原始数组"
   ]
  },
  {
   "cell_type": "code",
   "execution_count": 51,
   "metadata": {},
   "outputs": [
    {
     "name": "stdout",
     "output_type": "stream",
     "text": [
      "[[2. 7. 9. 4. 5. 5.]\n",
      " [7. 2. 2. 8. 0. 0.]]\n",
      "[[2. 7. 9. 4. 5. 5.]\n",
      " [7. 2. 2. 8. 0. 0.]]\n",
      "[[2. 7. 9. 4.]\n",
      " [5. 5. 7. 2.]\n",
      " [2. 8. 0. 0.]]\n"
     ]
    }
   ],
   "source": [
    "print(a)\n",
    "\n",
    "a.resize((2,6))\n",
    "print(a)\n",
    "\n",
    "#reshape参数为-1，表示自动计算\n",
    "print(a.reshape(3,-1))\n"
   ]
  },
  {
   "cell_type": "markdown",
   "metadata": {},
   "source": [
    "    数组堆叠"
   ]
  },
  {
   "cell_type": "code",
   "execution_count": 52,
   "metadata": {},
   "outputs": [
    {
     "name": "stdout",
     "output_type": "stream",
     "text": [
      "[[6. 3.]\n",
      " [3. 3.]]\n",
      "[[3. 1.]\n",
      " [0. 9.]]\n"
     ]
    }
   ],
   "source": [
    "a=np.floor(10*np.random.random((2,2)))\n",
    "print(a)\n",
    "b=np.floor(10*np.random.random((2,2)))\n",
    "print(b)"
   ]
  },
  {
   "cell_type": "code",
   "execution_count": 53,
   "metadata": {},
   "outputs": [
    {
     "data": {
      "text/plain": [
       "array([[6., 3.],\n",
       "       [3., 3.],\n",
       "       [3., 1.],\n",
       "       [0., 9.]])"
      ]
     },
     "execution_count": 53,
     "metadata": {},
     "output_type": "execute_result"
    }
   ],
   "source": [
    "#垂直堆叠\n",
    "np.vstack((a,b))"
   ]
  },
  {
   "cell_type": "code",
   "execution_count": 54,
   "metadata": {},
   "outputs": [
    {
     "data": {
      "text/plain": [
       "array([[6., 3., 3., 1.],\n",
       "       [3., 3., 0., 9.]])"
      ]
     },
     "execution_count": 54,
     "metadata": {},
     "output_type": "execute_result"
    }
   ],
   "source": [
    "#水平堆叠\n",
    "np.hstack((a,b))"
   ]
  },
  {
   "cell_type": "code",
   "execution_count": 63,
   "metadata": {},
   "outputs": [
    {
     "name": "stdout",
     "output_type": "stream",
     "text": [
      "[[4. 3.]\n",
      " [2. 8.]]\n",
      "[4. 2. 3. 8.]\n"
     ]
    }
   ],
   "source": [
    "from numpy import newaxis\n",
    "\n",
    "#将数个一维数组作为列，堆成二维数组\n",
    "a=np.array([4.,2.])\n",
    "b=np.array([3.,8.])\n",
    "print(np.column_stack((a,b)))\n",
    "\n",
    "#区别\n",
    "print(np.hstack((a,b)))\n"
   ]
  },
  {
   "cell_type": "code",
   "execution_count": 64,
   "metadata": {},
   "outputs": [
    {
     "name": "stdout",
     "output_type": "stream",
     "text": [
      "[[4.]\n",
      " [2.]]\n",
      "[[3.]\n",
      " [8.]]\n"
     ]
    }
   ],
   "source": [
    "#区别在于，column_stack多了扩维的步骤，如下\n",
    "print( a[:,newaxis] )\n",
    "print( b[:,newaxis] )"
   ]
  },
  {
   "cell_type": "code",
   "execution_count": 66,
   "metadata": {},
   "outputs": [
    {
     "data": {
      "text/plain": [
       "array([[4., 3.],\n",
       "       [2., 8.]])"
      ]
     },
     "execution_count": 66,
     "metadata": {},
     "output_type": "execute_result"
    }
   ],
   "source": [
    "np.column_stack((a[:,newaxis],b[:,newaxis]))"
   ]
  },
  {
   "cell_type": "code",
   "execution_count": 68,
   "metadata": {},
   "outputs": [
    {
     "data": {
      "text/plain": [
       "array([[4., 3.],\n",
       "       [2., 8.]])"
      ]
     },
     "execution_count": 68,
     "metadata": {},
     "output_type": "execute_result"
    }
   ],
   "source": [
    "#等价\n",
    "np.hstack((a[:,newaxis],b[:,newaxis]))"
   ]
  },
  {
   "cell_type": "markdown",
   "metadata": {},
   "source": [
    "    - 数组拆分"
   ]
  },
  {
   "cell_type": "code",
   "execution_count": 72,
   "metadata": {},
   "outputs": [
    {
     "name": "stdout",
     "output_type": "stream",
     "text": [
      "[[8. 3. 5. 0. 9. 4. 6. 7. 9. 6. 9. 1.]\n",
      " [3. 2. 6. 3. 2. 7. 8. 4. 5. 8. 1. 8.]]\n",
      "[array([[8., 3., 5., 0.],\n",
      "       [3., 2., 6., 3.]]), array([[9., 4., 6., 7.],\n",
      "       [2., 7., 8., 4.]]), array([[9., 6., 9., 1.],\n",
      "       [5., 8., 1., 8.]])]\n",
      "[array([[8., 3., 5.],\n",
      "       [3., 2., 6.]]), array([[0.],\n",
      "       [3.]]), array([[9., 4., 6., 7., 9., 6., 9., 1.],\n",
      "       [2., 7., 8., 4., 5., 8., 1., 8.]])]\n"
     ]
    }
   ],
   "source": [
    "a=np.floor(10*np.random.random((2,12)))\n",
    "print(a)\n",
    "\n",
    "#垂直分割为3块\n",
    "print( np.hsplit(a,3) )\n",
    "\n",
    "#垂直分割，指定分割点在：第3列之后，和，第4列之后\n",
    "print( np.hsplit(a,(3,4)) )"
   ]
  }
 ],
 "metadata": {
  "kernelspec": {
   "display_name": "venv",
   "language": "python",
   "name": "venv"
  },
  "language_info": {
   "codemirror_mode": {
    "name": "ipython",
    "version": 3
   },
   "file_extension": ".py",
   "mimetype": "text/x-python",
   "name": "python",
   "nbconvert_exporter": "python",
   "pygments_lexer": "ipython3",
   "version": "3.10.4"
  },
  "orig_nbformat": 4
 },
 "nbformat": 4,
 "nbformat_minor": 2
}
